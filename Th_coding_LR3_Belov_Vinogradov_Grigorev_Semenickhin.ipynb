{
  "cells": [
    {
      "cell_type": "markdown",
      "metadata": {
        "id": "view-in-github",
        "colab_type": "text"
      },
      "source": [
        "<a href=\"https://colab.research.google.com/github/Alexandr20i/Th_coding/blob/main/Th_coding_LR3_Belov_Vinogradov_Grigorev_Semenickhin.ipynb\" target=\"_parent\"><img src=\"https://colab.research.google.com/assets/colab-badge.svg\" alt=\"Open In Colab\"/></a>"
      ]
    },
    {
      "cell_type": "markdown",
      "metadata": {
        "id": "OTQAfwvIGUEJ"
      },
      "source": [
        "#  Лабораторная работа №3\n",
        "\n",
        "\n"
      ]
    },
    {
      "cell_type": "code",
      "execution_count": 36,
      "metadata": {
        "id": "kJEzoAjRHR3k"
      },
      "outputs": [],
      "source": [
        "import numpy as np\n",
        "import math\n",
        "import itertools as iter"
      ]
    },
    {
      "cell_type": "code",
      "execution_count": 37,
      "metadata": {
        "id": "s_HZG9OOIMWn"
      },
      "outputs": [],
      "source": [
        "# функция вычисления n и k на основе r\n",
        "def calculate_n_k(r) :\n",
        "    n = int(math.pow(2, r) - 1)\n",
        "    k = n - r\n",
        "    return n, k"
      ]
    },
    {
      "cell_type": "code",
      "execution_count": 38,
      "metadata": {
        "id": "O6dcIu_0IO4G"
      },
      "outputs": [],
      "source": [
        "# функция создания таблицы синдромов\n",
        "def generate_fault_syndrome_table(H_matrix, err_count) :\n",
        "    n = len(H_matrix)\n",
        "    one_err = np.eye(n, dtype=int)\n",
        "    fault_syndrome_table = {H_matrix[i].__str__() :  one_err[i] for i in range(n)}\n",
        "\n",
        "    for num in range(2, err_count + 1) :\n",
        "        fault_syndrome_arr = [sum(arr) % 2 for arr in np.asarray(list(iter.combinations(H_matrix, num)))]\n",
        "        err_arr = [sum(arr) for arr in np.asarray(list(iter.combinations(one_err, num)))]\n",
        "        for i in range(len(fault_syndrome_arr)) :\n",
        "            fault_syndrome_table[fault_syndrome_arr[i].__str__()] = err_arr[i]\n",
        "\n",
        "    return fault_syndrome_table"
      ]
    },
    {
      "cell_type": "markdown",
      "metadata": {
        "id": "cO2eJHynGWLx"
      },
      "source": [
        "## 3.1 Написать функцию формирования порождающей и проверочной матриц кода Хэмминга (𝟐𝒓 − 𝟏, 𝟐𝒓 − 𝒓 − 𝟏, 𝟑) на основе параметра 𝒓, а также таблицы синдромов для всех однократных ошибок."
      ]
    },
    {
      "cell_type": "code",
      "execution_count": 39,
      "metadata": {
        "id": "eqsS8T_bIRjS"
      },
      "outputs": [],
      "source": [
        "# функция создания проверочной матрицы Хемминга\n",
        "def generate_hamming(n, r) :\n",
        "    E = np.eye(r,dtype=int)\n",
        "    H_matrix = []\n",
        "    for i in range(r, 0, -1) :\n",
        "        for synd in [sum(arr) for arr in np.asarray(list(iter.combinations(E, i)))] :\n",
        "            H_matrix.append(synd)\n",
        "    return np.asarray(H_matrix)"
      ]
    },
    {
      "cell_type": "code",
      "execution_count": 40,
      "metadata": {
        "id": "i2vt4LbUITOg"
      },
      "outputs": [],
      "source": [
        "# функция создания порождающей матрицы\n",
        "def generate_G_matrix_matrix(H_matrix, n, k) :\n",
        "    G_matrix = np.zeros((k, n), dtype=int)\n",
        "    for i in range(k) :\n",
        "        G_matrix[i][i] = 1\n",
        "    G_matrix[ : , k : ] = H_matrix[ : k,  : ]\n",
        "    return G_matrix"
      ]
    },
    {
      "cell_type": "markdown",
      "metadata": {
        "id": "hAhNDqfjGtQx"
      },
      "source": [
        "## 3.2. Провести исследование кода Хэмминга для одно-, двух- и трёхкратных ошибок для 𝒓 = 𝟐, 𝟑, 𝟒."
      ]
    },
    {
      "cell_type": "markdown",
      "metadata": {
        "id": "RWrSjTKhIYrh"
      },
      "source": [
        "для r = 2"
      ]
    },
    {
      "cell_type": "code",
      "execution_count": 41,
      "metadata": {
        "colab": {
          "base_uri": "https://localhost:8080/"
        },
        "id": "YNZ-HbtvIZGp",
        "outputId": "11bcf99e-87d9-46ad-ea99-caf92f60f808"
      },
      "outputs": [
        {
          "output_type": "stream",
          "name": "stdout",
          "text": [
            "n = 3, k = 1, d = 3\n",
            "\n",
            "H_matrix =\n",
            "[[1 1]\n",
            " [1 0]\n",
            " [0 1]]\n",
            "\n",
            "G_matrix =\n",
            "[[1 1 1]]\n",
            "\n"
          ]
        }
      ],
      "source": [
        "r = 2\n",
        "n, k = calculate_n_k(r)\n",
        "d = 3\n",
        "print(f'n = {n}, k = {k}, d = {d}', end='\\n\\n')\n",
        "\n",
        "# создадим проверочную матрицу Хэмминга по заданным параметрам\n",
        "H_matrix = generate_hamming(n, r)\n",
        "print('H_matrix =', H_matrix, sep='\\n', end='\\n\\n')\n",
        "\n",
        "# создадим пораждающую матрицу\n",
        "G_matrix = generate_G_matrix_matrix(H_matrix, n, k)\n",
        "print('G_matrix =', G_matrix, sep='\\n', end='\\n\\n')\n",
        "fault_syndrome_table = generate_fault_syndrome_table(H_matrix, 1)"
      ]
    },
    {
      "cell_type": "code",
      "execution_count": 42,
      "metadata": {
        "colab": {
          "base_uri": "https://localhost:8080/"
        },
        "id": "AR9mQfTOIkrQ",
        "outputId": "a59b8d33-7271-4bcf-b2c1-4164149ee07a"
      },
      "outputs": [
        {
          "output_type": "stream",
          "name": "stdout",
          "text": [
            "кодовое слово = [1 1 1]\n",
            "\n",
            "синдром 1 = [1 1], синдром 2 = [1 0], синдром 3 = [0 0]\n",
            "\n"
          ]
        }
      ],
      "source": [
        "data_word = np.asarray([1])\n",
        "encoded_data_word = np.matmul(data_word, G_matrix)\n",
        "print(f'кодовое слово = {encoded_data_word}', end='\\n\\n')\n",
        "\n",
        "fault1 = np.asarray([1, 0, 0])\n",
        "fault2 = np.asarray([1, 0, 1])\n",
        "fault3 = np.asarray([1, 1, 1])\n",
        "\n",
        "err_encoded_data_word1 = encoded_data_word ^ fault1\n",
        "err_encoded_data_word2 = encoded_data_word ^ fault2\n",
        "err_encoded_data_word3 = encoded_data_word ^ fault3\n",
        "\n",
        "fault_syndrome1 = np.matmul(err_encoded_data_word1, H_matrix) % 2\n",
        "fault_syndrome2 = np.matmul(err_encoded_data_word2, H_matrix) % 2\n",
        "fault_syndrome3 = np.matmul(err_encoded_data_word3, H_matrix) % 2\n",
        "print(f'синдром 1 = {fault_syndrome1}, синдром 2 = {fault_syndrome2}, синдром 3 = {fault_syndrome3}', end='\\n\\n')"
      ]
    },
    {
      "cell_type": "code",
      "execution_count": 43,
      "metadata": {
        "colab": {
          "base_uri": "https://localhost:8080/"
        },
        "id": "FcEPkWuQIsjE",
        "outputId": "8870a46e-922d-4e10-e630-0d66a189cfcf"
      },
      "outputs": [
        {
          "output_type": "stream",
          "name": "stdout",
          "text": [
            "для однократной ошибки можем обнаружить, но не исправить : \n",
            "ошибка в разряде :  [1 0 0]\n",
            "\n",
            "для двукратной ошибки можем только обнаружить : \n",
            "ошибка в разряде :  [0 1 0]\n",
            "\n",
            "с трёхкратной ошибкой ничего сделать нельзя : \n",
            "ошибки нет\n",
            "\n"
          ]
        }
      ],
      "source": [
        "print('для однократной ошибки можем обнаружить, но не исправить : ')\n",
        "if not np.array_equal(fault_syndrome1, np.zeros(r, dtype=int)) :\n",
        "    print(f'ошибка в разряде :  {fault_syndrome_table[fault_syndrome1.__str__()]}', end='\\n\\n')\n",
        "else :\n",
        "  print('ошибки нет', end='\\n\\n')\n",
        "\n",
        "print('для двукратной ошибки можем только обнаружить : ')\n",
        "if not np.array_equal(fault_syndrome2, np.zeros(r, dtype=int)) :\n",
        "    print(f'ошибка в разряде :  {fault_syndrome_table[fault_syndrome2.__str__()]}', end='\\n\\n')\n",
        "else :\n",
        "  print('ошибки нет', end='\\n\\n')\n",
        "\n",
        "print('с трёхкратной ошибкой ничего сделать нельзя : ')\n",
        "if not np.array_equal(fault_syndrome3, np.zeros(r, dtype=int)) :\n",
        "    print(f'ошибка в разряде :  {fault_syndrome_table[fault_syndrome3.__str__()]}', end='\\n\\n')\n",
        "else :\n",
        "  print('ошибки нет', end='\\n\\n')"
      ]
    },
    {
      "cell_type": "markdown",
      "metadata": {
        "id": "zuX7CIXwIz3W"
      },
      "source": [
        "для r = 3"
      ]
    },
    {
      "cell_type": "code",
      "execution_count": 44,
      "metadata": {
        "colab": {
          "base_uri": "https://localhost:8080/"
        },
        "id": "sUl7ABWSI1zx",
        "outputId": "82862108-f8e4-419d-962b-dddfba86160d"
      },
      "outputs": [
        {
          "output_type": "stream",
          "name": "stdout",
          "text": [
            "n = 7, k = 4, d = 3\n",
            "\n",
            "H_matrix =\n",
            "[[1 1 1]\n",
            " [1 1 0]\n",
            " [1 0 1]\n",
            " [0 1 1]\n",
            " [1 0 0]\n",
            " [0 1 0]\n",
            " [0 0 1]]\n",
            "\n",
            "G_matrix =\n",
            "[[1 0 0 0 1 1 1]\n",
            " [0 1 0 0 1 1 0]\n",
            " [0 0 1 0 1 0 1]\n",
            " [0 0 0 1 0 1 1]]\n",
            "\n"
          ]
        }
      ],
      "source": [
        "r = 3\n",
        "n, k = calculate_n_k(r)\n",
        "d = 3\n",
        "print(f'n = {n}, k = {k}, d = {d}', end='\\n\\n')\n",
        "\n",
        "# создадим проверочную матрицу Хэмминга по заданным параметрам\n",
        "H_matrix = generate_hamming(n, r)\n",
        "print('H_matrix =', H_matrix, sep='\\n', end='\\n\\n')\n",
        "\n",
        "# создадим пораждающую матрицу\n",
        "G_matrix = generate_G_matrix_matrix(H_matrix, n, k)\n",
        "print('G_matrix =', G_matrix, sep='\\n', end='\\n\\n')\n",
        "fault_syndrome_table = generate_fault_syndrome_table(H_matrix, 1)"
      ]
    },
    {
      "cell_type": "code",
      "execution_count": 45,
      "metadata": {
        "colab": {
          "base_uri": "https://localhost:8080/"
        },
        "id": "d7MgO5MsJrX_",
        "outputId": "939a5ec0-6996-40fb-df7c-91cb4ba86168"
      },
      "outputs": [
        {
          "output_type": "stream",
          "name": "stdout",
          "text": [
            "кодовое слово = [1 0 0 0 1 1 1]\n",
            "\n",
            "синдром 1 = [1 1 1], синдром 2 = [0 0 1], синдром 3 = [0 0 0]\n",
            "\n"
          ]
        }
      ],
      "source": [
        "data_word = np.asarray([1, 0, 0, 0])\n",
        "encoded_data_word = np.matmul(data_word, G_matrix)\n",
        "print(f'кодовое слово = {encoded_data_word}', end='\\n\\n')\n",
        "\n",
        "fault1 = np.asarray([1, 0, 0, 0, 0, 0, 0])\n",
        "fault2 = np.asarray([1, 1, 0, 0, 0, 0, 0])\n",
        "fault3 = np.asarray([1, 1, 0, 0, 0, 0, 1])\n",
        "\n",
        "err_encoded_data_word1 = encoded_data_word ^ fault1\n",
        "err_encoded_data_word2 = encoded_data_word ^ fault2\n",
        "err_encoded_data_word3 = encoded_data_word ^ fault3\n",
        "\n",
        "fault_syndrome1 = np.matmul(err_encoded_data_word1, H_matrix) % 2\n",
        "fault_syndrome2 = np.matmul(err_encoded_data_word2, H_matrix) % 2\n",
        "fault_syndrome3 = np.matmul(err_encoded_data_word3, H_matrix) % 2\n",
        "print(f'синдром 1 = {fault_syndrome1}, синдром 2 = {fault_syndrome2}, синдром 3 = {fault_syndrome3}', end='\\n\\n')"
      ]
    },
    {
      "cell_type": "code",
      "execution_count": 46,
      "metadata": {
        "colab": {
          "base_uri": "https://localhost:8080/"
        },
        "id": "Df-MWvZQJxYV",
        "outputId": "ecae7174-49e9-47c5-c26e-2c00ec63991a"
      },
      "outputs": [
        {
          "output_type": "stream",
          "name": "stdout",
          "text": [
            "для однократной ошибки можем обнаружить, но не исправить : \n",
            "ошибка в разряде :  [1 0 0 0 0 0 0]\n",
            "\n",
            "для двукратной ошибки можем только обнаружить : \n",
            "ошибка в разряде :  [0 0 0 0 0 0 1]\n",
            "\n",
            "с трёхкратной ошибкой ничего сделать нельзя : \n",
            "ошибки нет\n",
            "\n"
          ]
        }
      ],
      "source": [
        "print('для однократной ошибки можем обнаружить, но не исправить : ')\n",
        "if not np.array_equal(fault_syndrome1, np.zeros(r, dtype=int)) :\n",
        "    print(f'ошибка в разряде :  {fault_syndrome_table[fault_syndrome1.__str__()]}', end='\\n\\n')\n",
        "else :\n",
        "  print('ошибки нет', end='\\n\\n')\n",
        "\n",
        "print('для двукратной ошибки можем только обнаружить : ')\n",
        "if not np.array_equal(fault_syndrome2, np.zeros(r, dtype=int)) :\n",
        "    print(f'ошибка в разряде :  {fault_syndrome_table[fault_syndrome2.__str__()]}', end='\\n\\n')\n",
        "else :\n",
        "  print('ошибки нет', end='\\n\\n')\n",
        "\n",
        "print('с трёхкратной ошибкой ничего сделать нельзя : ')\n",
        "if not np.array_equal(fault_syndrome3, np.zeros(r, dtype=int)) :\n",
        "    print(f'ошибка в разряде :  {fault_syndrome_table[fault_syndrome3.__str__()]}', end='\\n\\n')\n",
        "else :\n",
        "  print('ошибки нет', end='\\n\\n')"
      ]
    },
    {
      "cell_type": "markdown",
      "metadata": {
        "id": "Sz_bGlFBJzb_"
      },
      "source": [
        "для r = 4"
      ]
    },
    {
      "cell_type": "code",
      "execution_count": 47,
      "metadata": {
        "colab": {
          "base_uri": "https://localhost:8080/"
        },
        "id": "-cCEM5PKJ0Uh",
        "outputId": "5d5215fc-75b9-4645-c754-e2a551795349"
      },
      "outputs": [
        {
          "output_type": "stream",
          "name": "stdout",
          "text": [
            "n = 15, k = 11, d = 3\n",
            "\n",
            "H_matrix =\n",
            "[[1 1 1 1]\n",
            " [1 1 1 0]\n",
            " [1 1 0 1]\n",
            " [1 0 1 1]\n",
            " [0 1 1 1]\n",
            " [1 1 0 0]\n",
            " [1 0 1 0]\n",
            " [1 0 0 1]\n",
            " [0 1 1 0]\n",
            " [0 1 0 1]\n",
            " [0 0 1 1]\n",
            " [1 0 0 0]\n",
            " [0 1 0 0]\n",
            " [0 0 1 0]\n",
            " [0 0 0 1]]\n",
            "\n",
            "G_matrix =\n",
            "[[1 0 0 0 0 0 0 0 0 0 0 1 1 1 1]\n",
            " [0 1 0 0 0 0 0 0 0 0 0 1 1 1 0]\n",
            " [0 0 1 0 0 0 0 0 0 0 0 1 1 0 1]\n",
            " [0 0 0 1 0 0 0 0 0 0 0 1 0 1 1]\n",
            " [0 0 0 0 1 0 0 0 0 0 0 0 1 1 1]\n",
            " [0 0 0 0 0 1 0 0 0 0 0 1 1 0 0]\n",
            " [0 0 0 0 0 0 1 0 0 0 0 1 0 1 0]\n",
            " [0 0 0 0 0 0 0 1 0 0 0 1 0 0 1]\n",
            " [0 0 0 0 0 0 0 0 1 0 0 0 1 1 0]\n",
            " [0 0 0 0 0 0 0 0 0 1 0 0 1 0 1]\n",
            " [0 0 0 0 0 0 0 0 0 0 1 0 0 1 1]]\n",
            "\n"
          ]
        }
      ],
      "source": [
        "r = 4\n",
        "n, k = calculate_n_k(r)\n",
        "d = 3\n",
        "print(f'n = {n}, k = {k}, d = {d}', end='\\n\\n')\n",
        "\n",
        "# создадим проверочную матрицу Хэмминга по заданным параметрам\n",
        "H_matrix = generate_hamming(n, r)\n",
        "print('H_matrix =', H_matrix, sep='\\n', end='\\n\\n')\n",
        "\n",
        "# создадим пораждающую матрицу\n",
        "G_matrix = generate_G_matrix_matrix(H_matrix, n, k)\n",
        "print('G_matrix =', G_matrix, sep='\\n', end='\\n\\n')\n",
        "fault_syndrome_table = generate_fault_syndrome_table(H_matrix, 1)"
      ]
    },
    {
      "cell_type": "code",
      "execution_count": 48,
      "metadata": {
        "colab": {
          "base_uri": "https://localhost:8080/"
        },
        "id": "gL_6VLQ5J4hg",
        "outputId": "29a4cc65-4e6f-4c9e-dbf2-deeb45aec299"
      },
      "outputs": [
        {
          "output_type": "stream",
          "name": "stdout",
          "text": [
            "кодовое слово = [1 0 0 0 0 0 0 0 0 0 0 1 1 1 1]\n",
            "\n",
            "синдром 1 = [1 1 1 1], синдром 2 = [0 0 0 1], синдром 3 = [0 0 0 0]\n",
            "\n"
          ]
        }
      ],
      "source": [
        "data_word = np.asarray([1, 0, 0, 0, 0, 0, 0, 0, 0, 0, 0])\n",
        "encoded_data_word = np.matmul(data_word, G_matrix)\n",
        "print(f'кодовое слово = {encoded_data_word}', end='\\n\\n')\n",
        "\n",
        "fault1 = np.asarray([1, 0, 0, 0, 0, 0, 0, 0, 0, 0, 0, 0, 0, 0, 0])\n",
        "fault2 = np.asarray([1, 1, 0, 0, 0, 0, 0, 0, 0, 0, 0, 0, 0, 0, 0])\n",
        "fault3 = np.asarray([1, 1, 0, 0, 0, 0, 0, 0, 0, 0, 0, 0, 0, 0, 1])\n",
        "\n",
        "err_encoded_data_word1 = encoded_data_word ^ fault1\n",
        "err_encoded_data_word2 = encoded_data_word ^ fault2\n",
        "err_encoded_data_word3 = encoded_data_word ^ fault3\n",
        "\n",
        "fault_syndrome1 = np.matmul(err_encoded_data_word1, H_matrix) % 2\n",
        "fault_syndrome2 = np.matmul(err_encoded_data_word2, H_matrix) % 2\n",
        "fault_syndrome3 = np.matmul(err_encoded_data_word3, H_matrix) % 2\n",
        "print(f'синдром 1 = {fault_syndrome1}, синдром 2 = {fault_syndrome2}, синдром 3 = {fault_syndrome3}', end='\\n\\n')"
      ]
    },
    {
      "cell_type": "code",
      "execution_count": 49,
      "metadata": {
        "colab": {
          "base_uri": "https://localhost:8080/"
        },
        "id": "NOYpPBYYJ6yt",
        "outputId": "46b1e325-a19c-43f1-ea63-878648edab32"
      },
      "outputs": [
        {
          "output_type": "stream",
          "name": "stdout",
          "text": [
            "для однократной ошибки можем обнаружить, но не исправить : \n",
            "ошибка в разряде :  [1 0 0 0 0 0 0 0 0 0 0 0 0 0 0]\n",
            "\n",
            "для двукратной ошибки можем только обнаружить : \n",
            "ошибка в разряде :  [0 0 0 0 0 0 0 0 0 0 0 0 0 0 1]\n",
            "\n",
            "с трёхкратной ошибкой ничего сделать нельзя : \n",
            "ошибки нет\n",
            "\n"
          ]
        }
      ],
      "source": [
        "print('для однократной ошибки можем обнаружить, но не исправить : ')\n",
        "if not np.array_equal(fault_syndrome1, np.zeros(r, dtype=int)) :\n",
        "    print(f'ошибка в разряде :  {fault_syndrome_table[fault_syndrome1.__str__()]}', end='\\n\\n')\n",
        "else :\n",
        "  print('ошибки нет', end='\\n\\n')\n",
        "\n",
        "print('для двукратной ошибки можем только обнаружить : ')\n",
        "if not np.array_equal(fault_syndrome2, np.zeros(r, dtype=int)) :\n",
        "    print(f'ошибка в разряде :  {fault_syndrome_table[fault_syndrome2.__str__()]}', end='\\n\\n')\n",
        "else :\n",
        "  print('ошибки нет', end='\\n\\n')\n",
        "\n",
        "print('с трёхкратной ошибкой ничего сделать нельзя : ')\n",
        "if not np.array_equal(fault_syndrome3, np.zeros(r, dtype=int)) :\n",
        "    print(f'ошибка в разряде :  {fault_syndrome_table[fault_syndrome3.__str__()]}', end='\\n\\n')\n",
        "else :\n",
        "  print('ошибки нет', end='\\n\\n')"
      ]
    },
    {
      "cell_type": "markdown",
      "metadata": {
        "id": "gDK82d0sG2Ru"
      },
      "source": [
        "## 3.3 Написать функцию формирования порождающей и проверочной матриц расширенного кода Хэмминга (𝟐𝒓, 𝟐𝒓 − 𝒓 − 𝟏, 𝟑) на основе параметра 𝒓, а также таблицы синдромов для всех однократных ошибок."
      ]
    },
    {
      "cell_type": "code",
      "execution_count": 50,
      "metadata": {
        "id": "-v_KNQJYKHLl"
      },
      "outputs": [],
      "source": [
        "# функция создания проверочной расширенной матрицы Хемминга\n",
        "def create_advanced_hamming(n, r) :\n",
        "    H_matrix_ = np.zeros((n+1, r+1), dtype=int)\n",
        "    H_matrix_[ : n, : r] = generate_hamming(n, r)\n",
        "    H_matrix_[ : ,r] += 1\n",
        "    return H_matrix_"
      ]
    },
    {
      "cell_type": "code",
      "execution_count": 51,
      "metadata": {
        "id": "7SmbtGVBKLC_"
      },
      "outputs": [],
      "source": [
        "# функция создания расширенной порождающей матрицы\n",
        "def create_advanced_G_matrix(H_matrix_, n, k) :\n",
        "    G_matrix_ = np.zeros((k, n+1), dtype=int)\n",
        "    G_matrix_[ : ,  : n] = generate_G_matrix_matrix(H_matrix_[ : n,  : n-k], n, k)\n",
        "    for i in range(k) :\n",
        "        G_matrix_[i][n] = sum(G_matrix_[i]) % 2\n",
        "    return G_matrix_"
      ]
    },
    {
      "cell_type": "markdown",
      "metadata": {
        "id": "xIyyN3geHBYm"
      },
      "source": [
        "## 3.4. Провести исследование расширенного кода Хэмминга для одно-, двух-, трёх- и четырёхкратных ошибок для 𝒓 = 𝟐, 𝟑, 𝟒."
      ]
    },
    {
      "cell_type": "markdown",
      "metadata": {
        "id": "Bsr4eEKoG1gL"
      },
      "source": [
        "для r = 2"
      ]
    },
    {
      "cell_type": "code",
      "execution_count": 52,
      "metadata": {
        "colab": {
          "base_uri": "https://localhost:8080/"
        },
        "id": "BrpHwk99KXU6",
        "outputId": "a3db58c1-cc41-4b09-ca54-0d2eed15f72d"
      },
      "outputs": [
        {
          "output_type": "stream",
          "name": "stdout",
          "text": [
            "n = 3, k = 1, d = 3\n",
            "\n",
            "H_matrix_ =\n",
            "[[1 1 1]\n",
            " [1 0 1]\n",
            " [0 1 1]\n",
            " [0 0 1]]\n",
            "\n",
            "G_matrix_ =\n",
            "[[1 1 1 1]]\n",
            "\n"
          ]
        }
      ],
      "source": [
        "r = 2\n",
        "n, k = calculate_n_k(r)\n",
        "d = 3\n",
        "print(f'n = {n}, k = {k}, d = {d}', end='\\n\\n')\n",
        "\n",
        "# создадим проверочную матрицу Хэмминга по заданным параметрам\n",
        "H_matrix_ = create_advanced_hamming(n, r)\n",
        "print('H_matrix_ =', H_matrix_, sep='\\n', end='\\n\\n')\n",
        "\n",
        "# создадим пораждающую матрицу\n",
        "G_matrix_ = create_advanced_G_matrix(H_matrix_, n, k)\n",
        "print('G_matrix_ =', G_matrix_, sep='\\n', end='\\n\\n')\n",
        "fault_syndrome_table = generate_fault_syndrome_table(H_matrix_, 1)"
      ]
    },
    {
      "cell_type": "code",
      "execution_count": 53,
      "metadata": {
        "colab": {
          "base_uri": "https://localhost:8080/"
        },
        "id": "P_3ke063KaHr",
        "outputId": "86775068-b0c4-4e5a-8490-73951d92d83b"
      },
      "outputs": [
        {
          "output_type": "stream",
          "name": "stdout",
          "text": [
            "кодовое слово = [1 1 1 1]\n",
            "\n",
            "синдром 1 = [1 1 1], синдром 2 = [1 0 0], синдром 3 = [0 1 1], синдром 4 = [0 0 0]\n"
          ]
        }
      ],
      "source": [
        "data_word = np.asarray([1])\n",
        "encoded_data_word = np.matmul(data_word, G_matrix_)\n",
        "print(f'кодовое слово = {encoded_data_word}', end='\\n\\n')\n",
        "\n",
        "fault1 = np.asarray([1, 0, 0, 0])\n",
        "fault2 = np.asarray([1, 0, 1, 0])\n",
        "fault3 = np.asarray([1, 1, 0, 1])\n",
        "fault4 = np.asarray([1, 1, 1, 1])\n",
        "\n",
        "err_encoded_data_word1 = encoded_data_word ^ fault1\n",
        "err_encoded_data_word2 = encoded_data_word ^ fault2\n",
        "err_encoded_data_word3 = encoded_data_word ^ fault3\n",
        "err_encoded_data_word4 = encoded_data_word ^ fault4\n",
        "\n",
        "fault_syndrome1 = np.matmul(err_encoded_data_word1, H_matrix_) % 2\n",
        "fault_syndrome2 = np.matmul(err_encoded_data_word2, H_matrix_) % 2\n",
        "fault_syndrome3 = np.matmul(err_encoded_data_word3, H_matrix_) % 2\n",
        "fault_syndrome4 = np.matmul(err_encoded_data_word4, H_matrix_) % 2\n",
        "print(f'синдром 1 = {fault_syndrome1}, синдром 2 = {fault_syndrome2}, синдром 3 = {fault_syndrome3}, синдром 4 = {fault_syndrome4}')\n"
      ]
    },
    {
      "cell_type": "code",
      "execution_count": 54,
      "metadata": {
        "id": "_cBEJ7ybKcBS"
      },
      "outputs": [],
      "source": [
        "\n",
        "def find_fault(fault_syndrome, r) :\n",
        "    if not np.array_equal(fault_syndrome, np.zeros(r+1, dtype=int)) :\n",
        "        if fault_syndrome[r] == 0 :\n",
        "            print('двукратная ошибка', end='\\n\\n')\n",
        "        else :\n",
        "          print(f'ошибка в разряде :  {fault_syndrome_table[fault_syndrome.__str__()]}', end='\\n\\n')\n",
        "    else :\n",
        "        print('ошибок нет', end='\\n\\n')"
      ]
    },
    {
      "cell_type": "code",
      "execution_count": 55,
      "metadata": {
        "colab": {
          "base_uri": "https://localhost:8080/"
        },
        "id": "OuLqKaKMKdvU",
        "outputId": "0bdb103c-8ce2-4578-9516-598e94a7183d"
      },
      "outputs": [
        {
          "output_type": "stream",
          "name": "stdout",
          "text": [
            "для однократной ошибки можем обнаружить, но не исправить : \n",
            "ошибка в разряде :  [1 0 0 0]\n",
            "\n",
            "для двукратной ошибки можем обнаружить и распознать : \n",
            "двукратная ошибка\n",
            "\n",
            "трёхкратную ошибку можем только обнаружить : \n",
            "ошибка в разряде :  [0 0 1 0]\n",
            "\n",
            "с четырёхкратной ошибкой ничего сделать нельзя : \n",
            "ошибок нет\n",
            "\n"
          ]
        }
      ],
      "source": [
        "\n",
        "print('для однократной ошибки можем обнаружить, но не исправить : ')\n",
        "find_fault(fault_syndrome1, r)\n",
        "print('для двукратной ошибки можем обнаружить и распознать : ')\n",
        "find_fault(fault_syndrome2, r)\n",
        "print('трёхкратную ошибку можем только обнаружить : ')\n",
        "find_fault(fault_syndrome3, r)\n",
        "print('с четырёхкратной ошибкой ничего сделать нельзя : ')\n",
        "find_fault(fault_syndrome4, r)"
      ]
    },
    {
      "cell_type": "markdown",
      "metadata": {
        "id": "a3CSnSkPKPr2"
      },
      "source": [
        "для r = 3"
      ]
    },
    {
      "cell_type": "code",
      "execution_count": 56,
      "metadata": {
        "colab": {
          "base_uri": "https://localhost:8080/"
        },
        "id": "PG646ELbKfj_",
        "outputId": "403885f5-1899-4fc8-bb39-274a32e9c6be"
      },
      "outputs": [
        {
          "output_type": "stream",
          "name": "stdout",
          "text": [
            "n = 7, k = 4, d = 3\n",
            "\n",
            "H_matrix_ =\n",
            "[[1 1 1 1]\n",
            " [1 1 0 1]\n",
            " [1 0 1 1]\n",
            " [0 1 1 1]\n",
            " [1 0 0 1]\n",
            " [0 1 0 1]\n",
            " [0 0 1 1]\n",
            " [0 0 0 1]]\n",
            "\n",
            "G_matrix_ =\n",
            "[[1 0 0 0 1 1 1 0]\n",
            " [0 1 0 0 1 1 0 1]\n",
            " [0 0 1 0 1 0 1 1]\n",
            " [0 0 0 1 0 1 1 1]]\n",
            "\n"
          ]
        }
      ],
      "source": [
        "r = 3\n",
        "n, k = calculate_n_k(r)\n",
        "d = 3\n",
        "print(f'n = {n}, k = {k}, d = {d}', end='\\n\\n')\n",
        "\n",
        "# создадим проверочную матрицу Хэмминга по заданным параметрам\n",
        "H_matrix_ = create_advanced_hamming(n, r)\n",
        "print('H_matrix_ =', H_matrix_, sep='\\n', end='\\n\\n')\n",
        "\n",
        "# создадим пораждающую матрицу\n",
        "G_matrix_ = create_advanced_G_matrix(H_matrix_, n, k)\n",
        "print('G_matrix_ =', G_matrix_, sep='\\n', end='\\n\\n')\n",
        "fault_syndrome_table = generate_fault_syndrome_table(H_matrix_, 1)"
      ]
    },
    {
      "cell_type": "code",
      "execution_count": 57,
      "metadata": {
        "colab": {
          "base_uri": "https://localhost:8080/"
        },
        "id": "disKqmuzKhkY",
        "outputId": "95b6a24f-9c5c-4535-b8c9-0bda354d5c07"
      },
      "outputs": [
        {
          "output_type": "stream",
          "name": "stdout",
          "text": [
            "кодовое слово = [1 0 0 1 1 2 2 1]\n",
            "\n",
            "синдром 1 = [1 1 1 1], синдром 2 = [0 0 1 0], синдром 3 = [0 0 0 1], синдром 4 = [0 0 0 0]\n"
          ]
        }
      ],
      "source": [
        "\n",
        "data_word = np.asarray([1, 0, 0, 1])\n",
        "encoded_data_word = np.matmul(data_word, G_matrix_)\n",
        "print(f'кодовое слово = {encoded_data_word}', end='\\n\\n')\n",
        "\n",
        "fault1 = np.asarray([1, 0, 0, 0, 0, 0, 0, 0])\n",
        "fault2 = np.asarray([1, 1, 0, 0, 0, 0, 0, 0])\n",
        "fault3 = np.asarray([1, 1, 0, 0, 0, 0, 1, 0])\n",
        "fault4 = np.asarray([1, 1, 0, 0, 0, 0, 1, 1])\n",
        "\n",
        "err_encoded_data_word1 = encoded_data_word ^ fault1\n",
        "err_encoded_data_word2 = encoded_data_word ^ fault2\n",
        "err_encoded_data_word3 = encoded_data_word ^ fault3\n",
        "err_encoded_data_word4 = encoded_data_word ^ fault4\n",
        "\n",
        "fault_syndrome1 = np.matmul(err_encoded_data_word1, H_matrix_) % 2\n",
        "fault_syndrome2 = np.matmul(err_encoded_data_word2, H_matrix_) % 2\n",
        "fault_syndrome3 = np.matmul(err_encoded_data_word3, H_matrix_) % 2\n",
        "fault_syndrome4 = np.matmul(err_encoded_data_word4, H_matrix_) % 2\n",
        "print(f'синдром 1 = {fault_syndrome1}, синдром 2 = {fault_syndrome2}, синдром 3 = {fault_syndrome3}, синдром 4 = {fault_syndrome4}')"
      ]
    },
    {
      "cell_type": "code",
      "execution_count": 58,
      "metadata": {
        "colab": {
          "base_uri": "https://localhost:8080/"
        },
        "id": "eCPsRx0lKjgC",
        "outputId": "2863e8f0-69be-4e00-d1ff-61507efd6fef"
      },
      "outputs": [
        {
          "output_type": "stream",
          "name": "stdout",
          "text": [
            "для однократной ошибки можем обнаружить, но не исправить : \n",
            "ошибка в разряде :  [1 0 0 0 0 0 0 0]\n",
            "\n",
            "для двукратной ошибки можем обнаружить и распознать : \n",
            "двукратная ошибка\n",
            "\n",
            "трёхкратную ошибку можем только обнаружить : \n",
            "ошибка в разряде :  [0 0 0 0 0 0 0 1]\n",
            "\n",
            "с четырёхкратной ошибкой ничего сделать нельзя : \n",
            "ошибок нет\n",
            "\n"
          ]
        }
      ],
      "source": [
        "print('для однократной ошибки можем обнаружить, но не исправить : ')\n",
        "find_fault(fault_syndrome1, r)\n",
        "print('для двукратной ошибки можем обнаружить и распознать : ')\n",
        "find_fault(fault_syndrome2, r)\n",
        "print('трёхкратную ошибку можем только обнаружить : ')\n",
        "find_fault(fault_syndrome3, r)\n",
        "print('с четырёхкратной ошибкой ничего сделать нельзя : ')\n",
        "find_fault(fault_syndrome4, r)\n"
      ]
    },
    {
      "cell_type": "markdown",
      "metadata": {
        "id": "qBYqBJZkKToM"
      },
      "source": [
        "для r = 4"
      ]
    },
    {
      "cell_type": "code",
      "execution_count": 59,
      "metadata": {
        "colab": {
          "base_uri": "https://localhost:8080/"
        },
        "id": "p8hKveMoKlVR",
        "outputId": "024a8fb4-6f34-451b-9aed-f70bf599658b"
      },
      "outputs": [
        {
          "output_type": "stream",
          "name": "stdout",
          "text": [
            "n = 15, k = 11, d = 3\n",
            "\n",
            "H_matrix_ =\n",
            "[[1 1 1 1 1]\n",
            " [1 1 1 0 1]\n",
            " [1 1 0 1 1]\n",
            " [1 0 1 1 1]\n",
            " [0 1 1 1 1]\n",
            " [1 1 0 0 1]\n",
            " [1 0 1 0 1]\n",
            " [1 0 0 1 1]\n",
            " [0 1 1 0 1]\n",
            " [0 1 0 1 1]\n",
            " [0 0 1 1 1]\n",
            " [1 0 0 0 1]\n",
            " [0 1 0 0 1]\n",
            " [0 0 1 0 1]\n",
            " [0 0 0 1 1]\n",
            " [0 0 0 0 1]]\n",
            "\n",
            "G_matrix_ =\n",
            "[[1 0 0 0 0 0 0 0 0 0 0 1 1 1 1 1]\n",
            " [0 1 0 0 0 0 0 0 0 0 0 1 1 1 0 0]\n",
            " [0 0 1 0 0 0 0 0 0 0 0 1 1 0 1 0]\n",
            " [0 0 0 1 0 0 0 0 0 0 0 1 0 1 1 0]\n",
            " [0 0 0 0 1 0 0 0 0 0 0 0 1 1 1 0]\n",
            " [0 0 0 0 0 1 0 0 0 0 0 1 1 0 0 1]\n",
            " [0 0 0 0 0 0 1 0 0 0 0 1 0 1 0 1]\n",
            " [0 0 0 0 0 0 0 1 0 0 0 1 0 0 1 1]\n",
            " [0 0 0 0 0 0 0 0 1 0 0 0 1 1 0 1]\n",
            " [0 0 0 0 0 0 0 0 0 1 0 0 1 0 1 1]\n",
            " [0 0 0 0 0 0 0 0 0 0 1 0 0 1 1 1]]\n",
            "\n"
          ]
        }
      ],
      "source": [
        "r = 4\n",
        "n, k = calculate_n_k(r)\n",
        "d = 3\n",
        "print(f'n = {n}, k = {k}, d = {d}', end='\\n\\n')\n",
        "\n",
        "# создадим проверочную матрицу Хэмминга по заданным параметрам\n",
        "H_matrix_ = create_advanced_hamming(n, r)\n",
        "print('H_matrix_ =', H_matrix_, sep='\\n', end='\\n\\n')\n",
        "\n",
        "# создадим пораждающую матрицу\n",
        "G_matrix_ = create_advanced_G_matrix(H_matrix_, n, k)\n",
        "print('G_matrix_ =', G_matrix_, sep='\\n', end='\\n\\n')\n",
        "fault_syndrome_table = generate_fault_syndrome_table(H_matrix_, 1)"
      ]
    },
    {
      "cell_type": "code",
      "execution_count": 60,
      "metadata": {
        "colab": {
          "base_uri": "https://localhost:8080/"
        },
        "id": "Q6ZMwZHiKnlQ",
        "outputId": "ff540c73-0ddc-4e03-fadd-fb2baff5e374"
      },
      "outputs": [
        {
          "output_type": "stream",
          "name": "stdout",
          "text": [
            "кодовое слово = [1 0 0 1 0 1 0 0 1 0 0 3 3 3 2 3]\n",
            "\n",
            "синдром 1 = [1 1 1 1 1], синдром 2 = [1 0 0 0 0], синдром 3 = [0 0 1 0 1], синдром 4 = [0 0 0 0 0]\n"
          ]
        }
      ],
      "source": [
        "\n",
        "data_word = np.asarray([1, 0, 0, 1, 0, 1, 0, 0, 1, 0, 0])\n",
        "encoded_data_word = np.matmul(data_word, G_matrix_)\n",
        "print(f'кодовое слово = {encoded_data_word}', end='\\n\\n')\n",
        "\n",
        "fault1 = np.asarray([1, 0, 0, 0, 0, 0, 0, 0, 0, 0, 0, 0, 0, 0, 0, 0])\n",
        "fault2 = np.asarray([1, 0, 0, 0, 1, 0, 0, 0, 0, 0, 0, 0, 0, 0, 0, 0])\n",
        "fault3 = np.asarray([1, 0, 0, 0, 0, 0, 0, 1, 0, 0, 0, 0, 1, 0, 0, 0])\n",
        "fault4 = np.asarray([1, 0, 0, 0, 0, 1, 0, 0, 0, 0, 0, 0, 0, 1, 1, 0])\n",
        "\n",
        "err_encoded_data_word1 = encoded_data_word ^ fault1\n",
        "err_encoded_data_word2 = encoded_data_word ^ fault2\n",
        "err_encoded_data_word3 = encoded_data_word ^ fault3\n",
        "err_encoded_data_word4 = encoded_data_word ^ fault4\n",
        "\n",
        "fault_syndrome1 = np.matmul(err_encoded_data_word1, H_matrix_) % 2\n",
        "fault_syndrome2 = np.matmul(err_encoded_data_word2, H_matrix_) % 2\n",
        "fault_syndrome3 = np.matmul(err_encoded_data_word3, H_matrix_) % 2\n",
        "fault_syndrome4 = np.matmul(err_encoded_data_word4, H_matrix_) % 2\n",
        "print(f'синдром 1 = {fault_syndrome1}, синдром 2 = {fault_syndrome2}, синдром 3 = {fault_syndrome3}, синдром 4 = {fault_syndrome4}')"
      ]
    },
    {
      "cell_type": "code",
      "execution_count": 61,
      "metadata": {
        "colab": {
          "base_uri": "https://localhost:8080/"
        },
        "id": "HXfvybAmKpMu",
        "outputId": "e8fc0c02-7a81-42dd-8706-624b94038153"
      },
      "outputs": [
        {
          "output_type": "stream",
          "name": "stdout",
          "text": [
            "для однократной ошибки можем обнаружить, но не исправить : \n",
            "ошибка в разряде :  [1 0 0 0 0 0 0 0 0 0 0 0 0 0 0 0]\n",
            "\n",
            "для двукратной ошибки можем обнаружить и распознать : \n",
            "двукратная ошибка\n",
            "\n",
            "трёхкратную ошибку можем только обнаружить : \n",
            "ошибка в разряде :  [0 0 0 0 0 0 0 0 0 0 0 0 0 1 0 0]\n",
            "\n",
            "с четырёхкратной ошибкой ничего сделать нельзя : \n",
            "ошибок нет\n",
            "\n"
          ]
        }
      ],
      "source": [
        "\n",
        "print('для однократной ошибки можем обнаружить, но не исправить : ')\n",
        "find_fault(fault_syndrome1, r)\n",
        "print('для двукратной ошибки можем обнаружить и распознать : ')\n",
        "find_fault(fault_syndrome2, r)\n",
        "print('трёхкратную ошибку можем только обнаружить : ')\n",
        "find_fault(fault_syndrome3, r)\n",
        "print('с четырёхкратной ошибкой ничего сделать нельзя : ')\n",
        "find_fault(fault_syndrome4, r)"
      ]
    }
  ],
  "metadata": {
    "colab": {
      "provenance": [],
      "include_colab_link": true
    },
    "kernelspec": {
      "display_name": "Python 3",
      "name": "python3"
    },
    "language_info": {
      "name": "python"
    }
  },
  "nbformat": 4,
  "nbformat_minor": 0
}