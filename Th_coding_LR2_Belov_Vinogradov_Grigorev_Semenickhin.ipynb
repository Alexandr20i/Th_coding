{
  "cells": [
    {
      "cell_type": "markdown",
      "metadata": {
        "id": "view-in-github",
        "colab_type": "text"
      },
      "source": [
        "<a href=\"https://colab.research.google.com/github/Alexandr20i/Th_coding/blob/main/Th_coding_LR2_Belov_Vinogradov_Grigorev_Semenickhin.ipynb\" target=\"_parent\"><img src=\"https://colab.research.google.com/assets/colab-badge.svg\" alt=\"Open In Colab\"/></a>"
      ]
    },
    {
      "cell_type": "markdown",
      "source": [
        "#  Лабораторная работа №2"
      ],
      "metadata": {
        "id": "Ky1LeIXT20a7"
      }
    },
    {
      "cell_type": "code",
      "execution_count": null,
      "outputs": [],
      "source": [
        "import  numpy as np"
      ],
      "metadata": {
        "ExecuteTime": {
          "start_time": "2024-10-28T23:47:04.284543Z",
          "end_time": "2024-10-28T23:47:04.448824Z"
        },
        "id": "w1RVJlXVc1gM"
      }
    },
    {
      "cell_type": "markdown",
      "source": [
        "# Часть 1"
      ],
      "metadata": {
        "collapsed": false,
        "id": "hEHO10xPc1gO"
      }
    },
    {
      "cell_type": "markdown",
      "source": [
        "## 2.1 Сформировать порождающую матрицу линейного кода (7, 4, 3)"
      ],
      "metadata": {
        "collapsed": false,
        "id": "KWGaFdiwc1gP"
      }
    },
    {
      "cell_type": "code",
      "source": [
        "n, k, d = 7, 4, 3\n",
        "# Создание единичной матрицы I_k размером 4x4\n",
        "I_k = np.eye(k, dtype=int)\n",
        "# Инициализация пустого списка для хранения строк X\n",
        "X = []\n",
        "\n",
        "# Генерация всех возможных строк длины 3 с двумя и более единицами\n",
        "for i in range(2 ** d):\n",
        "    # Преобразуем число в двоичный вид и заполняем строку\n",
        "    row = [(i >> j) & 1 for j in range(3)]\n",
        "    # Проверяем, что в строке не менее двух единиц\n",
        "    if sum(row) >= 2:\n",
        "        X.append(row)\n",
        "\n",
        "# Удаляем дубликаты\n",
        "X = np.unique(X, axis=0)\n",
        "# Выбираем первые 4 уникальные строки\n",
        "X = X[:4]\n",
        "# Формирование порождающей матрицы G\n",
        "G = np.hstack((I_k, X))\n",
        "print(f'порождающая матрица линейного кода (7, 4, 3):\\n{G}')"
      ],
      "metadata": {
        "colab": {
          "base_uri": "https://localhost:8080/"
        },
        "id": "qRMY4RrCdZBj",
        "outputId": "d287d914-8ec3-421b-a11a-abe6f88da79a"
      },
      "execution_count": null,
      "outputs": [
        {
          "output_type": "stream",
          "name": "stdout",
          "text": [
            "порождающая матрица линейного кода (7, 4, 3):\n",
            "[[1 0 0 0 0 1 1]\n",
            " [0 1 0 0 1 0 1]\n",
            " [0 0 1 0 1 1 0]\n",
            " [0 0 0 1 1 1 1]]\n"
          ]
        }
      ]
    },
    {
      "cell_type": "markdown",
      "source": [
        "## 2.2 Сформировать проверочную матрицу на основе порождающей"
      ],
      "metadata": {
        "collapsed": false,
        "id": "C7yvPv-Rc1gQ"
      }
    },
    {
      "cell_type": "code",
      "source": [
        "n_k = n - k  # Количество проверочных бит (3)\n",
        "\n",
        "# Создание единичной матрицы I_{n-k} размером 3x3\n",
        "I_n_k = np.eye(n_k, dtype=int)\n",
        "\n",
        "# Формирование проверочной матрицы H\n",
        "H = np.vstack((X, I_n_k))\n",
        "print(f'Проверочная матрица H:\\n{H}')"
      ],
      "metadata": {
        "colab": {
          "base_uri": "https://localhost:8080/"
        },
        "id": "ImSJTXo9e5GR",
        "outputId": "fab2e65f-1934-4370-86b4-136fd2416d9f"
      },
      "execution_count": null,
      "outputs": [
        {
          "output_type": "stream",
          "name": "stdout",
          "text": [
            "Проверочная матрица H:\n",
            "[[0 1 1]\n",
            " [1 0 1]\n",
            " [1 1 0]\n",
            " [1 1 1]\n",
            " [1 0 0]\n",
            " [0 1 0]\n",
            " [0 0 1]]\n"
          ]
        }
      ]
    },
    {
      "cell_type": "markdown",
      "source": [
        "## 2.3 Сформировать таблицу синдромов для всех однократных ошибок"
      ],
      "metadata": {
        "collapsed": false,
        "id": "IApHRaJCc1gQ"
      }
    },
    {
      "cell_type": "code",
      "source": [
        "def calculate_syndrome(error_vector,H):\n",
        "    #Вычисляет синдром для данного вектора ошибки и матрицы H.\n",
        "    syndrome = (error_vector @ H) % 2\n",
        "    return tuple(syndrome)\n",
        "\n",
        "def create_syndrome_table(H):\n",
        "    #Создает таблицу синдромов для заданной проверочной матрицы.\n",
        "    num_rows = H.shape[0]\n",
        "    syndrome_dict = {}\n",
        "\n",
        "    # Проходим по всем возможным позициям ошибок\n",
        "    for i in range(num_rows):\n",
        "        error_vector = np.zeros(num_rows, dtype=int) # Создаем вектор ошибки с нулями\n",
        "        error_vector[i] = 1  # Вносим ошибку в i-ю позицию\n",
        "        syndrome = calculate_syndrome(error_vector, H) # Вычисляем синдром\n",
        "        syndrome_dict[syndrome] = tuple(error_vector) # Сохраняем синдром и соответствующий вектор ошибки в словаре\n",
        "\n",
        "    return syndrome_dict\n",
        "\n",
        "syndrome_table = create_syndrome_table(H)\n",
        "print(\"Таблица синдромов для однократных ошибок:\")\n",
        "print(\"Синдром\\t\\tВектор ошибки\")\n",
        "for syndrome in syndrome_table:\n",
        "    print(f\"{syndrome}\\t{syndrome_table[syndrome]}\")"
      ],
      "metadata": {
        "colab": {
          "base_uri": "https://localhost:8080/"
        },
        "id": "HHxG5uG2kV2x",
        "outputId": "ade21370-c711-4250-8c79-712a0138db77"
      },
      "execution_count": null,
      "outputs": [
        {
          "output_type": "stream",
          "name": "stdout",
          "text": [
            "Таблица синдромов для однократных ошибок:\n",
            "Синдром\t\tВектор ошибки\n",
            "(0, 1, 1)\t(1, 0, 0, 0, 0, 0, 0)\n",
            "(1, 0, 1)\t(0, 1, 0, 0, 0, 0, 0)\n",
            "(1, 1, 0)\t(0, 0, 1, 0, 0, 0, 0)\n",
            "(1, 1, 1)\t(0, 0, 0, 1, 0, 0, 0)\n",
            "(1, 0, 0)\t(0, 0, 0, 0, 1, 0, 0)\n",
            "(0, 1, 0)\t(0, 0, 0, 0, 0, 1, 0)\n",
            "(0, 0, 1)\t(0, 0, 0, 0, 0, 0, 1)\n"
          ]
        }
      ]
    },
    {
      "cell_type": "markdown",
      "source": [
        "## 2.4 Сформировать кодовое слово длины n из слова длины k. Внести однократную ошибку в сформированное слово. Вычислить синдром, исправить ошибку с использованием таблицы синдромов. Убедиться в правильности полученного слова\n"
      ],
      "metadata": {
        "collapsed": false,
        "id": "V_Yghh74c1gR"
      }
    },
    {
      "cell_type": "code",
      "source": [
        "def fix_errors(parity_check_matrix, received_word, syndrome_lookup):\n",
        "    # Исправляет ошибки в принятом кодовом слове с помощью таблицы синдромов.\n",
        "    # Вычисляем синдром для принятого слова\n",
        "    current_syndrome = tuple(np.dot(parity_check_matrix.T, received_word) % 2)\n",
        "\n",
        "    # Проверяем, есть ли синдром в таблице\n",
        "    if current_syndrome in syndrome_lookup:\n",
        "        error_pattern = np.array(syndrome_lookup[current_syndrome], dtype=int)  # Получаем вектор ошибок\n",
        "        corrected_word = (received_word + error_pattern) % 2  # Исправляем слово\n",
        "        return corrected_word, error_pattern  # Возвращаем исправленное слово и вектор ошибок\n",
        "\n",
        "    # Если синдром не найден, проверяем пары ошибок\n",
        "    num_bits = len(received_word)\n",
        "    for i in range(num_bits):\n",
        "        for j in range(i + 1, num_bits):  # Избегаем повторяющихся пар\n",
        "            # Создаем шаблон ошибки для текущей пары индексов\n",
        "            error_pattern = np.zeros(num_bits, dtype=int)\n",
        "            error_pattern[i] = 1  # Устанавливаем ошибку в i-ю позицию\n",
        "            error_pattern[j] = 1  # Устанавливаем ошибку в j-ю позицию\n",
        "\n",
        "            # Вычисляем новое слово и его синдром\n",
        "            modified_word = (received_word + error_pattern) % 2\n",
        "            new_syndrome = tuple(np.dot(parity_check_matrix.T, modified_word) % 2)\n",
        "\n",
        "            # Проверяем новый синдром\n",
        "            if new_syndrome in syndrome_lookup:\n",
        "                corrected_word = (received_word + error_pattern) % 2  # Исправляем слово\n",
        "                return corrected_word, error_pattern  # Возвращаем исправленное слово и вектор ошибок\n",
        "\n",
        "    # Если ошибки не обнаружены, возвращаем исходное слово\n",
        "    return received_word, None  # Возвращаем исходное слово и None для вектора ошибок"
      ],
      "metadata": {
        "id": "cTdZsnI6gqm5"
      },
      "execution_count": null,
      "outputs": []
    },
    {
      "cell_type": "code",
      "source": [
        "original_msg = np.random.randint(0, 2, size=k)\n",
        "print(f\"Оригинальное сообщение: {original_msg}\")\n",
        "\n",
        "encoded_word =  np.dot(original_msg, G) % 2\n",
        "print(f\"Кодированное сообщение: {encoded_word}\")\n",
        "# внесем однократную ошибку\n",
        "pos = np.random.randint(len(encoded_word))\n",
        "corrupted_word = np.array([bit ^ (i == pos) for i, bit in enumerate(encoded_word)])\n",
        "print(f\"Сообщение с ошибкой в позиции {pos}: {corrupted_word}\")\n",
        "\n",
        "corrected_word, detected_error = fix_errors(H, corrupted_word, syndrome_table)\n",
        "\n",
        "if detected_error is not None:\n",
        "    print(f\"Обнаруженная ошибка: {detected_error}\")\n",
        "else:\n",
        "    print(\"Ошибки не обнаружено.\")\n",
        "\n",
        "print(f\"Исправленное сообщение: {corrected_word}\")\n",
        "\n",
        "print(f\"Проверка на равенство отправленного слова и полученного: {np.array_equal(original_msg, corrected_word[:k])}\")"
      ],
      "metadata": {
        "colab": {
          "base_uri": "https://localhost:8080/"
        },
        "id": "J-l1MCb6juBU",
        "outputId": "509e25d2-3972-4bca-f9f0-9889aec29a99"
      },
      "execution_count": null,
      "outputs": [
        {
          "output_type": "stream",
          "name": "stdout",
          "text": [
            "Оригинальное сообщение: [1 1 1 1]\n",
            "Кодированное сообщение: [1 1 1 1 1 1 1]\n",
            "Сообщение с ошибкой в позиции 6: [1 1 1 1 1 1 0]\n",
            "Обнаруженная ошибка: [0 0 0 0 0 0 1]\n",
            "Исправленное сообщение: [1 1 1 1 1 1 1]\n",
            "Проверка на равенство отправленного слова и полученного: True\n"
          ]
        }
      ]
    },
    {
      "cell_type": "markdown",
      "source": [
        "## 2.5. Сформировать кодовое слово длины n из слова длины k. Внести двукратную ошибку в сформированное слово. Вычислить синдром, исправить ошибку с использованием таблицы синдромов. Убедиться, что полученное слово отличается от отправленного."
      ],
      "metadata": {
        "collapsed": false,
        "id": "PCtGbbO-c1gS"
      }
    },
    {
      "cell_type": "code",
      "execution_count": null,
      "outputs": [
        {
          "output_type": "stream",
          "name": "stdout",
          "text": [
            "Оригинальное сообщение: [1 1 1 1]\n",
            "Кодированное сообщение: [1 1 1 1 1 1 1]\n",
            "Сообщение с ошибкой в позиции [2 3]: [1 1 0 0 1 1 1]\n",
            "Обнаруженная ошибка: [0 0 0 0 0 0 1]\n",
            "Исправленное сообщение: [1 1 0 0 1 1 0]\n",
            "Проверка на равенство отправленного слова и полученного: False\n"
          ]
        }
      ],
      "source": [
        "print(f\"Оригинальное сообщение: {original_msg}\")\n",
        "print(f\"Кодированное сообщение: {encoded_word}\")\n",
        "# внесем двукратную ошибку\n",
        "pos = np.random.choice(len(encoded_word), size=2, replace=False)\n",
        "corrupted_word = np.array([bit ^ (i in pos) for i, bit in enumerate(encoded_word)])\n",
        "print(f\"Сообщение с ошибкой в позиции {pos}: {corrupted_word}\")\n",
        "\n",
        "corrected_word, detected_error = fix_errors(H, corrupted_word, syndrome_table)\n",
        "\n",
        "if detected_error is not None:\n",
        "    print(f\"Обнаруженная ошибка: {detected_error}\")\n",
        "else:\n",
        "    print(\"Ошибки не обнаружено.\")\n",
        "\n",
        "print(f\"Исправленное сообщение: {corrected_word}\")\n",
        "\n",
        "print(f\"Проверка на равенство отправленного слова и полученного: {np.array_equal(original_msg, corrected_word[:k])}\")"
      ],
      "metadata": {
        "ExecuteTime": {
          "start_time": "2024-10-28T23:47:04.468996Z",
          "end_time": "2024-10-28T23:47:04.560157Z"
        },
        "id": "qgXnz5EYc1gT",
        "outputId": "eed744ee-de8c-44a5-affe-5b613723e4a8",
        "colab": {
          "base_uri": "https://localhost:8080/"
        }
      }
    },
    {
      "cell_type": "markdown",
      "source": [
        "# Часть 2"
      ],
      "metadata": {
        "collapsed": false,
        "id": "-8xDDgyLc1gT"
      }
    },
    {
      "cell_type": "markdown",
      "source": [
        "## 2.6. Сформировать порождающую матрицу линейного кода (n, k, 5)."
      ],
      "metadata": {
        "collapsed": false,
        "id": "DB2fSUyoc1gT"
      }
    },
    {
      "cell_type": "code",
      "source": [
        "# Параметры кода\n",
        "n = 9  # длина кодового слова\n",
        "k = 4  # длина информационного слова\n",
        "n_k = n - k\n",
        "# Примерная матрица P\n",
        "X = np.array([[1, 1, 1, 1, 0],\n",
        "              [1, 1, 0, 0, 1],\n",
        "              [1, 0, 1, 0, 1],\n",
        "              [0, 1, 1, 0, 1]])\n",
        "I_k = np.eye(k, dtype=int)\n",
        "G = np.hstack((I_k, X))\n",
        "print(\"Порождающая матрица G:\\n\", G)"
      ],
      "metadata": {
        "colab": {
          "base_uri": "https://localhost:8080/"
        },
        "id": "raXJgJOHn8OT",
        "outputId": "f1c1207d-8fa5-4cc3-f6a5-33653dd508ab"
      },
      "execution_count": null,
      "outputs": [
        {
          "output_type": "stream",
          "name": "stdout",
          "text": [
            "Порождающая матрица G:\n",
            " [[1 0 0 0 1 1 1 1 0]\n",
            " [0 1 0 0 1 1 0 0 1]\n",
            " [0 0 1 0 1 0 1 0 1]\n",
            " [0 0 0 1 0 1 1 0 1]]\n"
          ]
        }
      ]
    },
    {
      "cell_type": "markdown",
      "source": [
        "## 2.7 Сформировать проверочную матрицу на основе порождающей."
      ],
      "metadata": {
        "collapsed": false,
        "id": "LdWqvgojc1gU"
      }
    },
    {
      "cell_type": "code",
      "execution_count": null,
      "outputs": [
        {
          "output_type": "stream",
          "name": "stdout",
          "text": [
            "Проверочная матрица H:\n",
            "[[1 1 1 1 0]\n",
            " [1 1 0 0 1]\n",
            " [1 0 1 0 1]\n",
            " [0 1 1 0 1]\n",
            " [1 0 0 0 0]\n",
            " [0 1 0 0 0]\n",
            " [0 0 1 0 0]\n",
            " [0 0 0 1 0]\n",
            " [0 0 0 0 1]]\n"
          ]
        }
      ],
      "source": [
        "n_k = n - k  # Количество проверочных бит (3)\n",
        "\n",
        "# Создание единичной матрицы I_{n-k} размером 3x3\n",
        "I_n_k = np.eye(n_k, dtype=int)\n",
        "\n",
        "# Формирование проверочной матрицы H\n",
        "H = np.vstack((X, I_n_k))\n",
        "print(f'Проверочная матрица H:\\n{H}')"
      ],
      "metadata": {
        "ExecuteTime": {
          "start_time": "2024-10-28T23:47:04.483274Z",
          "end_time": "2024-10-28T23:47:04.561113Z"
        },
        "id": "HH7UL5klc1gU",
        "outputId": "07a8934d-f7a6-4ee3-9fb7-65d5f311b37c",
        "colab": {
          "base_uri": "https://localhost:8080/"
        }
      }
    },
    {
      "cell_type": "markdown",
      "source": [
        "## 2.8 Сформировать таблицу синдромов для всех однократных и двукратных ошибок."
      ],
      "metadata": {
        "collapsed": false,
        "id": "yH5d6Mcmc1gU"
      }
    },
    {
      "cell_type": "code",
      "execution_count": null,
      "outputs": [
        {
          "output_type": "stream",
          "name": "stdout",
          "text": [
            "Таблица синдромов для однократных и двухкратных ошибок:\n",
            "Синдром\t\t\tВектор ошибки\n",
            "(1, 1, 1, 1, 0)\t\t(1, 0, 0, 0, 0, 0, 0, 0, 0)\n",
            "(1, 1, 0, 0, 1)\t\t(0, 1, 0, 0, 0, 0, 0, 0, 0)\n",
            "(1, 0, 1, 0, 1)\t\t(0, 0, 1, 0, 0, 0, 0, 0, 0)\n",
            "(0, 1, 1, 0, 1)\t\t(0, 0, 0, 1, 0, 0, 0, 0, 0)\n",
            "(1, 0, 0, 0, 0)\t\t(0, 0, 0, 0, 1, 0, 0, 0, 0)\n",
            "(0, 1, 0, 0, 0)\t\t(0, 0, 0, 0, 0, 1, 0, 0, 0)\n",
            "(0, 0, 1, 0, 0)\t\t(0, 0, 0, 0, 0, 0, 1, 0, 0)\n",
            "(0, 0, 0, 1, 0)\t\t(0, 0, 0, 0, 0, 0, 0, 1, 0)\n",
            "(0, 0, 0, 0, 1)\t\t(0, 0, 0, 0, 0, 0, 0, 0, 1)\n",
            "(0, 0, 1, 1, 1)\t\t(1, 1, 0, 0, 0, 0, 0, 0, 0)\n",
            "(0, 1, 0, 1, 1)\t\t(1, 0, 1, 0, 0, 0, 0, 0, 0)\n",
            "(1, 0, 0, 1, 1)\t\t(1, 0, 0, 1, 0, 0, 0, 0, 0)\n",
            "(0, 1, 1, 1, 0)\t\t(1, 0, 0, 0, 1, 0, 0, 0, 0)\n",
            "(1, 0, 1, 1, 0)\t\t(1, 0, 0, 0, 0, 1, 0, 0, 0)\n",
            "(1, 1, 0, 1, 0)\t\t(1, 0, 0, 0, 0, 0, 1, 0, 0)\n",
            "(1, 1, 1, 0, 0)\t\t(1, 0, 0, 0, 0, 0, 0, 1, 0)\n",
            "(1, 1, 1, 1, 1)\t\t(1, 0, 0, 0, 0, 0, 0, 0, 1)\n",
            "(0, 1, 1, 0, 0)\t\t(0, 0, 0, 0, 0, 1, 1, 0, 0)\n",
            "(1, 0, 1, 0, 0)\t\t(0, 0, 0, 0, 1, 0, 1, 0, 0)\n",
            "(0, 1, 0, 0, 1)\t\t(0, 0, 0, 0, 0, 1, 0, 0, 1)\n",
            "(1, 0, 0, 0, 1)\t\t(0, 0, 0, 0, 1, 0, 0, 0, 1)\n",
            "(1, 1, 1, 0, 1)\t\t(0, 0, 0, 1, 1, 0, 0, 0, 0)\n",
            "(1, 1, 0, 1, 1)\t\t(0, 1, 0, 0, 0, 0, 0, 1, 0)\n",
            "(1, 1, 0, 0, 0)\t\t(0, 0, 0, 0, 1, 1, 0, 0, 0)\n",
            "(0, 0, 1, 0, 1)\t\t(0, 0, 0, 0, 0, 0, 1, 0, 1)\n",
            "(1, 0, 1, 1, 1)\t\t(0, 0, 1, 0, 0, 0, 0, 1, 0)\n",
            "(0, 1, 1, 1, 1)\t\t(0, 0, 0, 1, 0, 0, 0, 1, 0)\n",
            "(1, 0, 0, 1, 0)\t\t(0, 0, 0, 0, 1, 0, 0, 1, 0)\n",
            "(0, 1, 0, 1, 0)\t\t(0, 0, 0, 0, 0, 1, 0, 1, 0)\n",
            "(0, 0, 1, 1, 0)\t\t(0, 0, 0, 0, 0, 0, 1, 1, 0)\n",
            "(0, 0, 0, 1, 1)\t\t(0, 0, 0, 0, 0, 0, 0, 1, 1)\n"
          ]
        }
      ],
      "source": [
        "def build_syndrome_table(H):\n",
        "    n = H.shape[1]  # Количество столбцов (размер кодового слова)\n",
        "\n",
        "    syndromes = {}\n",
        "\n",
        "    # Однократные ошибки\n",
        "    for i in range(n):\n",
        "        error_vec = np.zeros(n, dtype=int)\n",
        "        error_vec[i] = 1\n",
        "        S = calculate_syndrome(error_vec, H.T)\n",
        "        syndromes[S] = tuple(error_vec)\n",
        "\n",
        "    # Двукратные ошибки\n",
        "    for i in range(n):\n",
        "        for j in range(i + 1, n):\n",
        "            error_vec = np.zeros(n, dtype=int)\n",
        "            error_vec[i] = 1\n",
        "            error_vec[j] = 1\n",
        "            S = calculate_syndrome(error_vec, H.T)\n",
        "            syndromes[S] = tuple(error_vec)\n",
        "\n",
        "    return syndromes\n",
        "\n",
        "print(\"Таблица синдромов для однократных и двухкратных ошибок:\")\n",
        "syndrome_table = build_syndrome_table(H.T)\n",
        "print(\"Синдром\\t\\t\\tВектор ошибки\")\n",
        "for syndrome in syndrome_table:\n",
        "    print(f\"{syndrome}\\t\\t{syndrome_table[syndrome]}\")\n"
      ],
      "metadata": {
        "ExecuteTime": {
          "start_time": "2024-10-28T23:47:04.487121Z",
          "end_time": "2024-10-28T23:47:04.561278Z"
        },
        "id": "SUZeJGGDc1gU",
        "outputId": "c0e221d2-964b-40d6-efdf-88f68eaddba4",
        "colab": {
          "base_uri": "https://localhost:8080/"
        }
      }
    },
    {
      "cell_type": "markdown",
      "source": [
        "## 2.9. Сформировать кодовое слово длины n из слова длины k. Внести однократную ошибку в сформированное слово. Вычислить синдром, исправить ошибку с использованием таблицы синдромов. Убедиться в правильности полученного слова."
      ],
      "metadata": {
        "collapsed": false,
        "id": "msWpd8R6c1gU"
      }
    },
    {
      "cell_type": "code",
      "source": [
        "original_msg = np.random.randint(0, 2, size=k)\n",
        "print(f\"Оригинальное сообщение: {original_msg}\")\n",
        "\n",
        "encoded_word =  np.dot(original_msg, G) % 2\n",
        "print(f\"Кодированное сообщение: {encoded_word}\")\n",
        "# внесем однократную ошибку\n",
        "pos = np.random.randint(len(encoded_word))\n",
        "corrupted_word = np.array([bit ^ (i == pos) for i, bit in enumerate(encoded_word)])\n",
        "print(f\"Сообщение с ошибкой в позиции {pos}: {corrupted_word}\")\n",
        "\n",
        "corrected_word, detected_error = fix_errors(H, corrupted_word, syndrome_table)\n",
        "\n",
        "if detected_error is not None:\n",
        "    print(f\"Обнаруженная ошибка: {detected_error}\")\n",
        "else:\n",
        "    print(\"Ошибки не обнаружено.\")\n",
        "\n",
        "print(f\"Исправленное сообщение: {corrected_word}\")\n",
        "\n",
        "print(f\"Проверка на равенство отправленного слова и полученного: {np.array_equal(original_msg, corrected_word[:k])}\")"
      ],
      "metadata": {
        "colab": {
          "base_uri": "https://localhost:8080/"
        },
        "id": "nFoa4IBbrFyW",
        "outputId": "46a8e3d8-e2d1-4ade-9ef5-75ea4981bd88"
      },
      "execution_count": null,
      "outputs": [
        {
          "output_type": "stream",
          "name": "stdout",
          "text": [
            "Оригинальное сообщение: [1 0 1 0]\n",
            "Кодированное сообщение: [1 0 1 0 0 1 0 1 1]\n",
            "Сообщение с ошибкой в позиции 3: [1 0 1 1 0 1 0 1 1]\n",
            "Обнаруженная ошибка: [0 0 0 1 0 0 0 0 0]\n",
            "Исправленное сообщение: [1 0 1 0 0 1 0 1 1]\n",
            "Проверка на равенство отправленного слова и полученного: True\n"
          ]
        }
      ]
    },
    {
      "cell_type": "markdown",
      "source": [
        "## 2.10. Сформировать кодовое слово длины n из слова длины k. Внести двукратную ошибку в сформированное слово. Вычислить синдром, исправить ошибку с использованием таблицы синдромов. Убедиться в правильности полученного слова."
      ],
      "metadata": {
        "collapsed": false,
        "id": "046yiaG9c1gV"
      }
    },
    {
      "cell_type": "code",
      "execution_count": null,
      "outputs": [
        {
          "output_type": "stream",
          "name": "stdout",
          "text": [
            "Оригинальное сообщение: [1 0 1 0]\n",
            "Кодированное сообщение: [1 0 1 0 0 1 0 1 1]\n",
            "Сообщение с ошибкой в позиции [6 0]: [0 0 1 0 0 1 1 1 1]\n",
            "Обнаруженная ошибка: [1 0 0 0 0 0 1 0 0]\n",
            "Исправленное сообщение: [1 0 1 0 0 1 0 1 1]\n",
            "Проверка на равенство отправленного слова и полученного: True\n"
          ]
        }
      ],
      "source": [
        "print(f\"Оригинальное сообщение: {original_msg}\")\n",
        "print(f\"Кодированное сообщение: {encoded_word}\")\n",
        "# внесем двукратную ошибку\n",
        "pos = np.random.choice(len(encoded_word), size=2, replace=False)\n",
        "corrupted_word = np.array([bit ^ (i in pos) for i, bit in enumerate(encoded_word)])\n",
        "print(f\"Сообщение с ошибкой в позиции {pos}: {corrupted_word}\")\n",
        "\n",
        "corrected_word, detected_error = fix_errors(H, corrupted_word, syndrome_table)\n",
        "\n",
        "if detected_error is not None:\n",
        "    print(f\"Обнаруженная ошибка: {detected_error}\")\n",
        "else:\n",
        "    print(\"Ошибки не обнаружено.\")\n",
        "\n",
        "print(f\"Исправленное сообщение: {corrected_word}\")\n",
        "\n",
        "print(f\"Проверка на равенство отправленного слова и полученного: {np.array_equal(original_msg, corrected_word[:k])}\")"
      ],
      "metadata": {
        "ExecuteTime": {
          "start_time": "2024-10-28T23:47:04.498157Z",
          "end_time": "2024-10-28T23:47:04.561495Z"
        },
        "id": "4NUGE8Buc1gV",
        "outputId": "d0e06407-74e4-42f3-e1bd-6e5d2e0768fa",
        "colab": {
          "base_uri": "https://localhost:8080/"
        }
      }
    },
    {
      "cell_type": "markdown",
      "source": [
        "## 2.11. Сформировать кодовое слово длины n из слова длины k. Внести трёхкратную ошибку в сформированное слово. Вычислить синдром, исправить ошибку с использованием таблицы синдромов. Убедиться, что полученное слово отличается от отправленного."
      ],
      "metadata": {
        "collapsed": false,
        "id": "CdeIM4erc1gV"
      }
    },
    {
      "cell_type": "code",
      "execution_count": null,
      "outputs": [
        {
          "output_type": "stream",
          "name": "stdout",
          "text": [
            "Оригинальное сообщение: [1 0 1 0]\n",
            "Кодированное сообщение: [1 0 1 0 0 1 0 1 1]\n",
            "Сообщение с ошибкой в позиции [6 5 0]: [0 0 1 0 0 0 1 1 1]\n",
            "Обнаруженная ошибка: [0 0 0 0 1 0 0 1 0]\n",
            "Исправленное сообщение: [0 0 1 0 1 0 1 0 1]\n",
            "Проверка на равенство отправленного слова и полученного: False\n"
          ]
        }
      ],
      "source": [
        "print(f\"Оригинальное сообщение: {original_msg}\")\n",
        "print(f\"Кодированное сообщение: {encoded_word}\")\n",
        "# внесем трехкратную ошибку\n",
        "pos = np.random.choice(len(encoded_word), size=3, replace=False)\n",
        "corrupted_word = np.array([bit ^ (i in pos) for i, bit in enumerate(encoded_word)])\n",
        "print(f\"Сообщение с ошибкой в позиции {pos}: {corrupted_word}\")\n",
        "\n",
        "corrected_word, detected_error = fix_errors(H, corrupted_word, syndrome_table)\n",
        "\n",
        "if detected_error is not None:\n",
        "    print(f\"Обнаруженная ошибка: {detected_error}\")\n",
        "else:\n",
        "    print(\"Ошибки не обнаружено.\")\n",
        "\n",
        "print(f\"Исправленное сообщение: {corrected_word}\")\n",
        "\n",
        "print(f\"Проверка на равенство отправленного слова и полученного: {np.array_equal(original_msg, corrected_word[:k])}\")"
      ],
      "metadata": {
        "ExecuteTime": {
          "start_time": "2024-10-28T23:47:04.506802Z",
          "end_time": "2024-10-28T23:47:04.561574Z"
        },
        "id": "UWMKP6oVc1gV",
        "outputId": "1abb4562-e108-4872-93e8-f8a97475001d",
        "colab": {
          "base_uri": "https://localhost:8080/"
        }
      }
    }
  ],
  "metadata": {
    "kernelspec": {
      "display_name": "Python 3",
      "language": "python",
      "name": "python3"
    },
    "language_info": {
      "codemirror_mode": {
        "name": "ipython",
        "version": 2
      },
      "file_extension": ".py",
      "mimetype": "text/x-python",
      "name": "python",
      "nbconvert_exporter": "python",
      "pygments_lexer": "ipython2",
      "version": "2.7.6"
    },
    "colab": {
      "provenance": [],
      "include_colab_link": true
    }
  },
  "nbformat": 4,
  "nbformat_minor": 0
}