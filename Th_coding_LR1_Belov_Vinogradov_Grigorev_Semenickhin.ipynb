{
  "nbformat": 4,
  "nbformat_minor": 0,
  "metadata": {
    "colab": {
      "provenance": [],
      "authorship_tag": "ABX9TyMeMxz6pd0d3MfhsLbmQYcn",
      "include_colab_link": true
    },
    "kernelspec": {
      "name": "python3",
      "display_name": "Python 3"
    },
    "language_info": {
      "name": "python"
    }
  },
  "cells": [
    {
      "cell_type": "markdown",
      "metadata": {
        "id": "view-in-github",
        "colab_type": "text"
      },
      "source": [
        "<a href=\"https://colab.research.google.com/github/Alexandr20i/Th_coding/blob/main/Th_coding_LR1_Belov_Vinogradov_Grigorev_Semenickhin.ipynb\" target=\"_parent\"><img src=\"https://colab.research.google.com/assets/colab-badge.svg\" alt=\"Open In Colab\"/></a>"
      ]
    },
    {
      "cell_type": "markdown",
      "source": [
        "\n",
        "#  Лабораторная работа №1"
      ],
      "metadata": {
        "id": "sKZIDlgI92dS"
      }
    },
    {
      "cell_type": "markdown",
      "source": [
        "## 1.1 Реализовать функцию REF(), приводящую матрицу к ступенчатому виду."
      ],
      "metadata": {
        "id": "HcrbXzR--k6t"
      }
    },
    {
      "cell_type": "code",
      "execution_count": null,
      "metadata": {
        "id": "Qkyh-xuv7UR6"
      },
      "outputs": [],
      "source": [
        "import numpy as np"
      ]
    },
    {
      "cell_type": "code",
      "source": [
        "def ref(matrix):\n",
        "    mat = matrix\n",
        "\n",
        "    # Размеры матрицы\n",
        "    rows, cols = mat.shape\n",
        "    row_idx = 0  # Индекс текущей строки\n",
        "\n",
        "    for col in range(cols):\n",
        "        # Ищем ведущий элемент в столбце (не равный 0)\n",
        "        pivot_row = None\n",
        "        for r in range(row_idx, rows):\n",
        "            if mat[r, col] != 0:\n",
        "                pivot_row = r\n",
        "                break\n",
        "\n",
        "        # Если ведущего элемента нет, переходим к следующему столбцу\n",
        "        if pivot_row is None:\n",
        "            continue\n",
        "\n",
        "        # Меняем строки местами: текущая строка <-> строка с ведущим элементом\n",
        "        mat[[row_idx, pivot_row]] = mat[[pivot_row, row_idx]]\n",
        "\n",
        "        # Применяем исключающее ИЛИ (XOR) или сложение по модулю 2 к строкам ниже\n",
        "        for r in range(row_idx + 1, rows):\n",
        "            if mat[r, col] != 0:\n",
        "                mat[r] = (mat[r] + mat[row_idx]) % 2\n",
        "\n",
        "        row_idx += 1\n",
        "\n",
        "    return mat"
      ],
      "metadata": {
        "id": "Kz9cxWbH917s"
      },
      "execution_count": null,
      "outputs": []
    },
    {
      "cell_type": "code",
      "source": [
        "matrix = np.random.randint(0, 2, size=(3, 6))\n",
        "print(matrix)"
      ],
      "metadata": {
        "colab": {
          "base_uri": "https://localhost:8080/"
        },
        "id": "k7Vnsq8TBky5",
        "outputId": "586b4472-5a33-4898-b780-026936d62e94"
      },
      "execution_count": null,
      "outputs": [
        {
          "output_type": "stream",
          "name": "stdout",
          "text": [
            "[[1 1 0 0 1 1]\n",
            " [0 1 1 0 1 0]\n",
            " [1 0 1 0 0 0]]\n"
          ]
        }
      ]
    },
    {
      "cell_type": "code",
      "source": [
        "result = ref(matrix)\n",
        "print(result)"
      ],
      "metadata": {
        "colab": {
          "base_uri": "https://localhost:8080/"
        },
        "id": "0ecaIrbpBQfr",
        "outputId": "bdec0bf1-1864-4028-d6fc-ca5a18947ea4"
      },
      "execution_count": null,
      "outputs": [
        {
          "output_type": "stream",
          "name": "stdout",
          "text": [
            "[[1 1 0 0 1 1]\n",
            " [0 1 1 0 1 0]\n",
            " [0 0 0 0 0 1]]\n"
          ]
        }
      ]
    },
    {
      "cell_type": "markdown",
      "source": [
        "## 1.2 Реализовать функцию RREF(), приводящую матрицу к приведённому ступенчатому виду."
      ],
      "metadata": {
        "id": "LvPJgmf3C2m1"
      }
    },
    {
      "cell_type": "code",
      "source": [
        "def rref(matrix):\n",
        "\n",
        "    mat = matrix\n",
        "\n",
        "    # Размеры матрицы\n",
        "    rows, cols = mat.shape\n",
        "    row_idx = 0  # Индекс текущей строки\n",
        "\n",
        "    for col in range(cols):\n",
        "        # Ищем ведущий элемент в текущем столбце\n",
        "        pivot_row = None\n",
        "        for r in range(row_idx, rows):\n",
        "            if mat[r, col] != 0:\n",
        "                pivot_row = r\n",
        "                break\n",
        "\n",
        "        # Если ведущего элемента нет, продолжаем\n",
        "        if pivot_row is None:\n",
        "            continue\n",
        "\n",
        "        # Меняем строки местами: текущая строка <-> строка с ведущим элементом\n",
        "        mat[[row_idx, pivot_row]] = mat[[pivot_row, row_idx]]\n",
        "\n",
        "        # Применяем исключающее ИЛИ (XOR) или сложение по модулю 2 к строкам ниже\n",
        "        for r in range(rows):\n",
        "            if r != row_idx and mat[r, col] != 0:\n",
        "                mat[r] = (mat[r] + mat[row_idx]) % 2\n",
        "\n",
        "        row_idx += 1\n",
        "\n",
        "        # Останавливаем процесс, если дошли до конца строк\n",
        "        if row_idx >= rows:\n",
        "            break\n",
        "\n",
        "    return mat"
      ],
      "metadata": {
        "id": "XDEuCNFQC5FB"
      },
      "execution_count": null,
      "outputs": []
    },
    {
      "cell_type": "code",
      "source": [
        "matrix = np.random.randint(0, 2, size=(5, 6))\n",
        "print(matrix)"
      ],
      "metadata": {
        "colab": {
          "base_uri": "https://localhost:8080/"
        },
        "id": "-khtuDPJD8EL",
        "outputId": "40a0305a-d714-42a9-99c2-fb0cdd94bcc7"
      },
      "execution_count": null,
      "outputs": [
        {
          "output_type": "stream",
          "name": "stdout",
          "text": [
            "[[0 0 0 1 0 1]\n",
            " [0 0 1 0 0 1]\n",
            " [0 1 1 0 1 1]\n",
            " [1 0 1 0 1 0]\n",
            " [0 0 0 1 0 1]]\n"
          ]
        }
      ]
    },
    {
      "cell_type": "code",
      "source": [
        "result = rref(matrix)\n",
        "print(result)"
      ],
      "metadata": {
        "colab": {
          "base_uri": "https://localhost:8080/"
        },
        "id": "bAWBJKGcD5gH",
        "outputId": "c1d8ddc0-367a-4243-d8e0-e5d475b7d564"
      },
      "execution_count": null,
      "outputs": [
        {
          "output_type": "stream",
          "name": "stdout",
          "text": [
            "[[1 0 0 0 1 1]\n",
            " [0 1 0 0 1 0]\n",
            " [0 0 1 0 0 1]\n",
            " [0 0 0 1 0 1]\n",
            " [0 0 0 0 0 0]]\n"
          ]
        }
      ]
    },
    {
      "cell_type": "markdown",
      "source": [
        "## 1.3 Создать класс линейных кодов LinearCode."
      ],
      "metadata": {
        "id": "fDfu4NgOEv8Q"
      }
    },
    {
      "cell_type": "markdown",
      "source": [
        "### 1.3.1 На основе входной матрицы сформировать порождающую матрицу в ступенчатом виде."
      ],
      "metadata": {
        "id": "BfrJza3_EyoY"
      }
    },
    {
      "cell_type": "code",
      "source": [
        "S = np.array([[1, 0, 0, 1, 0, 0, 0, 1, 0, 0, 1],\n",
        "             [0, 1, 0, 1, 1, 1, 0, 1, 0, 1, 0],\n",
        "             [0, 0, 1, 0, 1, 0, 0, 0, 0, 0, 1],\n",
        "             [1, 0, 1, 0, 1, 1, 1, 0, 0, 0, 1],\n",
        "             [0, 0, 0, 0, 1, 0, 1, 1, 1, 1, 0],\n",
        "             [1, 1, 1, 1, 1, 0, 0, 0, 0, 0, 0]])\n",
        "S_REF = rref(S)\n",
        "print(S_REF)"
      ],
      "metadata": {
        "colab": {
          "base_uri": "https://localhost:8080/"
        },
        "id": "L-OcX0lNE2Xd",
        "outputId": "129546ba-d11a-4a56-c3a8-1acf1afed86e"
      },
      "execution_count": null,
      "outputs": [
        {
          "output_type": "stream",
          "name": "stdout",
          "text": [
            "[[1 0 0 0 0 1 1 0 0 0 0]\n",
            " [0 1 0 0 0 0 0 1 0 0 0]\n",
            " [0 0 1 0 0 0 1 1 0 1 0]\n",
            " [0 0 0 1 0 1 1 1 0 0 1]\n",
            " [0 0 0 0 1 0 1 1 0 1 1]\n",
            " [0 0 0 0 0 0 0 0 1 0 1]]\n"
          ]
        }
      ]
    },
    {
      "cell_type": "markdown",
      "source": [
        "### 1.3.2 Задать n равное числу столбцов и k равное числу строк полученной матрицы (без учёта полностью нулевых строк)."
      ],
      "metadata": {
        "id": "_CdPJeyKF_f3"
      }
    },
    {
      "cell_type": "code",
      "source": [
        "def matrix_without_null(matrix):\n",
        "\n",
        "    # Удаляем полностью нулевые строки\n",
        "    non_zero_matrix = matrix[~np.all(matrix == 0, axis=1)]\n",
        "\n",
        "    # k - количество строк без нулевых\n",
        "    k = non_zero_matrix.shape[0]\n",
        "    # n - количество столбцов\n",
        "    n = non_zero_matrix.shape[1]\n",
        "\n",
        "    return n, k"
      ],
      "metadata": {
        "id": "mYwFYUXYJj-J"
      },
      "execution_count": null,
      "outputs": []
    },
    {
      "cell_type": "code",
      "source": [
        "G = np.random.randint(0, 2, size=(5, 6))\n",
        "print(G)"
      ],
      "metadata": {
        "colab": {
          "base_uri": "https://localhost:8080/"
        },
        "id": "bveFA3RaGAwV",
        "outputId": "5cd881af-b22a-407b-f8ef-d8c49c8a7bb5"
      },
      "execution_count": null,
      "outputs": [
        {
          "output_type": "stream",
          "name": "stdout",
          "text": [
            "[[1 0 0 1 0 1]\n",
            " [1 0 0 0 0 1]\n",
            " [0 1 0 0 1 0]\n",
            " [0 0 0 0 0 0]\n",
            " [0 0 1 1 0 1]]\n"
          ]
        }
      ]
    },
    {
      "cell_type": "code",
      "source": [
        "result = rref(G)\n",
        "print(result)"
      ],
      "metadata": {
        "colab": {
          "base_uri": "https://localhost:8080/"
        },
        "id": "MepH1VdgLS2U",
        "outputId": "94cd9071-c89f-4da5-eb66-fa5bdbe387fb"
      },
      "execution_count": null,
      "outputs": [
        {
          "output_type": "stream",
          "name": "stdout",
          "text": [
            "[[1 0 0 0 0 1]\n",
            " [0 1 0 0 1 0]\n",
            " [0 0 1 0 0 1]\n",
            " [0 0 0 1 0 0]\n",
            " [0 0 0 0 0 0]]\n"
          ]
        }
      ]
    },
    {
      "cell_type": "code",
      "source": [
        "n,k = matrix_without_null(result)\n",
        "print(f\" n = {n} \\n k = {k}\")"
      ],
      "metadata": {
        "colab": {
          "base_uri": "https://localhost:8080/"
        },
        "id": "BkXJr1m2KDvf",
        "outputId": "5d7b18ff-24cb-4194-e719-9b1e22e753f5"
      },
      "execution_count": null,
      "outputs": [
        {
          "output_type": "stream",
          "name": "stdout",
          "text": [
            " n = 6 \n",
            " k = 4\n"
          ]
        }
      ]
    },
    {
      "cell_type": "markdown",
      "source": [
        "### 1.3.3 Сформировать проверочную матрицу на основе порождающей."
      ],
      "metadata": {
        "id": "XYZhExIlLq12"
      }
    },
    {
      "cell_type": "code",
      "source": [
        "# Шаг 1. Сформировать матрицу 𝐆∗ в приведённом ступенчатом виде на основе порождающей.\n",
        "S = np.array([[1, 0, 0, 1, 0, 0, 0, 1, 0, 0, 1],\n",
        "             [0, 1, 0, 1, 1, 1, 0, 1, 0, 1, 0],\n",
        "             [0, 0, 1, 0, 1, 0, 0, 0, 0, 0, 1],\n",
        "             [1, 0, 1, 0, 1, 1, 1, 0, 0, 0, 1],\n",
        "             [0, 0, 0, 0, 1, 0, 1, 1, 1, 1, 0],\n",
        "             [1, 1, 1, 1, 1, 0, 0, 0, 0, 0, 0]])\n",
        "matrix = rref(S)\n",
        "print(matrix)"
      ],
      "metadata": {
        "colab": {
          "base_uri": "https://localhost:8080/"
        },
        "id": "4iyyZJTJLx2e",
        "outputId": "f75d7e9c-4a88-4685-c36c-4aefb79d7c80"
      },
      "execution_count": null,
      "outputs": [
        {
          "output_type": "stream",
          "name": "stdout",
          "text": [
            "[[1 0 0 0 0 1 1 0 0 0 0]\n",
            " [0 1 0 0 0 0 0 1 0 0 0]\n",
            " [0 0 1 0 0 0 1 1 0 1 0]\n",
            " [0 0 0 1 0 1 1 1 0 0 1]\n",
            " [0 0 0 0 1 0 1 1 0 1 1]\n",
            " [0 0 0 0 0 0 0 0 1 0 1]]\n"
          ]
        }
      ]
    },
    {
      "cell_type": "code",
      "source": [
        "# Шаг 2. Зафиксировать ведущие столбцы lead матрицы 𝐆∗.\n",
        "def find_lead(mat):\n",
        "\n",
        "    rows, cols = mat.shape\n",
        "    lead_columns = []  # Список для хранения индексов ведущих столбцов\n",
        "\n",
        "    # Проходим по каждой строке и находим первый ненулевой элемент (ведущий элемент)\n",
        "    for row in range(rows):\n",
        "        for col in range(cols):\n",
        "            if mat[row, col] == 1:\n",
        "                # Если нашли 1 (ведущий элемент), фиксируем индекс столбца\n",
        "                lead_columns.append(col)\n",
        "                break  # Переходим к следующей строке\n",
        "\n",
        "    return lead_columns\n",
        "\n",
        "lead = find_lead(matrix)\n",
        "print(f\"Ведущие столбцы: {lead}\")"
      ],
      "metadata": {
        "colab": {
          "base_uri": "https://localhost:8080/"
        },
        "id": "pQ0oaI9pWcUa",
        "outputId": "9496492d-c4d3-41de-f6ba-515395c01c41"
      },
      "execution_count": null,
      "outputs": [
        {
          "output_type": "stream",
          "name": "stdout",
          "text": [
            "Ведущие столбцы: [0, 1, 2, 3, 4, 8]\n"
          ]
        }
      ]
    },
    {
      "cell_type": "code",
      "source": [
        "# Шаг 3. Сформировать сокращённую матрицу 𝐗, удалив ведущие столбцы матрицы 𝐆∗.\n",
        "# Удаляем ведущие столбцы, оставляя только остальные\n",
        "H3 = np.delete(matrix, lead, axis=1)\n",
        "\n",
        "print(\"Сокращённая матрица X:\")\n",
        "print(H3)"
      ],
      "metadata": {
        "colab": {
          "base_uri": "https://localhost:8080/"
        },
        "id": "YrtVUcmDZQFF",
        "outputId": "8e09a3ae-0cc6-4746-e736-cc5a51aaed69"
      },
      "execution_count": null,
      "outputs": [
        {
          "output_type": "stream",
          "name": "stdout",
          "text": [
            "Сокращённая матрица X:\n",
            "[[1 1 0 0 0]\n",
            " [0 0 1 0 0]\n",
            " [0 1 1 1 0]\n",
            " [1 1 1 0 1]\n",
            " [0 1 1 1 1]\n",
            " [0 0 0 0 1]]\n"
          ]
        }
      ]
    },
    {
      "cell_type": "code",
      "source": [
        "#Шаг 4. Сформировать матрицу 𝐇, поместив в строки, соответствующие позициям ведущих столбцов строки из 𝐗, а в остальные – строки единичной матрицы.\n",
        "nH3,kH3 = matrix_without_null(H3)\n",
        "nH4 = max(nH3,kH3)\n",
        "H4 = np.eye(nH3, dtype=int)\n",
        "\n",
        "def res(lead, H3, nH3, H4, nH4):\n",
        "  n3 = 0\n",
        "  n4 = 0\n",
        "  resu = []\n",
        "  for i in range(nH4+nH3):\n",
        "    if n3 < len(lead) and i == lead[n3]:\n",
        "      resu.append(H3[n3])\n",
        "      n3+=1\n",
        "    else:\n",
        "      resu.append(H4[n4])\n",
        "      n4+=1\n",
        "\n",
        "  return np.array(resu)\n",
        "\n",
        "result = res(lead, H3, nH3, H4, nH4)\n",
        "print(result)\n",
        "\n",
        "\n",
        "\n"
      ],
      "metadata": {
        "id": "46vnPr0fazVq",
        "colab": {
          "base_uri": "https://localhost:8080/"
        },
        "outputId": "32065198-555b-4210-db11-ea976c8a8d53"
      },
      "execution_count": null,
      "outputs": [
        {
          "output_type": "stream",
          "name": "stdout",
          "text": [
            "[[1 1 0 0 0]\n",
            " [0 0 1 0 0]\n",
            " [0 1 1 1 0]\n",
            " [1 1 1 0 1]\n",
            " [0 1 1 1 1]\n",
            " [1 0 0 0 0]\n",
            " [0 1 0 0 0]\n",
            " [0 0 1 0 0]\n",
            " [0 0 0 0 1]\n",
            " [0 0 0 1 0]\n",
            " [0 0 0 0 1]]\n"
          ]
        }
      ]
    },
    {
      "cell_type": "markdown",
      "source": [
        "## 1.4 Сформировать все кодовые слова длины n двумя способами."
      ],
      "metadata": {
        "id": "smBjTTtiISar"
      }
    },
    {
      "cell_type": "markdown",
      "source": [
        "### 1.4.1 Сложить все слова из порождающего множества, оставить неповторяющиеся.\n"
      ],
      "metadata": {
        "id": "O3JukGUWIelE"
      }
    },
    {
      "cell_type": "code",
      "source": [
        "# Функция для генерации уникальных кодовых слов из порождающего множества\n",
        "def generate_unique_words(G):\n",
        "    unique_words = set()\n",
        "    rows, cols = G.shape\n",
        "\n",
        "    for i in range(1, 2**rows):\n",
        "        result = np.zeros(cols, dtype=int)\n",
        "        for j in range(rows):\n",
        "            if (i >> j) & 1:\n",
        "                result = (result + G[j]) % 2\n",
        "        unique_words.add(tuple(result))\n",
        "\n",
        "    return np.array(list(unique_words))"
      ],
      "metadata": {
        "id": "y6hT03-C_RJ5"
      },
      "execution_count": null,
      "outputs": []
    },
    {
      "cell_type": "code",
      "source": [
        "G = np.array([[1, 0, 1, 1, 0, 0, 0, 1, 0, 0, 1],\n",
        "              [0, 0, 0, 1, 1, 1, 0, 1, 0, 1, 0],\n",
        "              [0, 0, 0, 0, 1, 0, 0, 1, 0, 0, 1],\n",
        "              [0, 0, 0, 0, 0, 0, 1, 0, 0, 1, 0],\n",
        "              [0, 0, 0, 0, 0, 0, 0, 0, 1, 1, 1]])\n",
        "\n",
        "M = np.array([[0, 1, 0, 0],  # строка 1\n",
        "              [0, 0, 1, 1],  # строка 2\n",
        "              [1, 1, 0, 0]]) # строка 4\n",
        "\n",
        "H = np.array([[0, 1, 1, 1, 1, 0],\n",
        "             [1, 0, 0, 0, 0, 0],\n",
        "             [0, 1, 0, 0, 0, 0],\n",
        "             [0, 0, 1, 0, 1, 1],\n",
        "             [0, 0, 0, 1, 0, 1],\n",
        "             [0, 0, 1, 0, 0, 0],\n",
        "             [0, 0, 0, 0, 1, 0],\n",
        "             [0, 0, 0, 1, 0, 0],\n",
        "             [0, 0, 0, 0, 1, 1],\n",
        "             [0, 0, 0, 0, 1, 0],\n",
        "             [0, 0, 0, 0, 0, 1]])\n"
      ],
      "metadata": {
        "id": "RccyZ13wIU-_"
      },
      "execution_count": null,
      "outputs": []
    },
    {
      "cell_type": "code",
      "source": [
        "# Генерация кодовых слов\n",
        "unique_words = generate_unique_words(M)\n",
        "print(unique_words)\n"
      ],
      "metadata": {
        "colab": {
          "base_uri": "https://localhost:8080/"
        },
        "id": "bZJdWHMo_WQL",
        "outputId": "a813262a-3ddd-4207-f0c1-47b94e306601"
      },
      "execution_count": null,
      "outputs": [
        {
          "output_type": "stream",
          "name": "stdout",
          "text": [
            "[[0 1 1 1]\n",
            " [1 0 1 1]\n",
            " [1 1 0 0]\n",
            " [0 1 0 0]\n",
            " [1 0 0 0]\n",
            " [0 0 1 1]\n",
            " [1 1 1 1]]\n"
          ]
        }
      ]
    },
    {
      "cell_type": "markdown",
      "source": [
        "### 1.4.2 Взять все двоичные слова длины k, умножить каждое на G.\n"
      ],
      "metadata": {
        "id": "VC4odmnaIytL"
      }
    },
    {
      "cell_type": "code",
      "source": [
        "# 1.4.2 Взять все двоичные слова длины k, умножить каждое на G.\n",
        "\n",
        "u = np.array([1, 0, 1, 1, 0])\n",
        "print('u = ', u)\n",
        "\n",
        "v = np.dot(u,G)\n",
        "v %= 2\n",
        "print('v = u@G ', v)\n",
        "\n",
        "check = np.dot(v, H)\n",
        "check %= 2\n",
        "print('v@H =', check)"
      ],
      "metadata": {
        "id": "kcHyuIITI1az",
        "colab": {
          "base_uri": "https://localhost:8080/"
        },
        "outputId": "61621055-321a-475a-c913-45b71106b1d4"
      },
      "execution_count": null,
      "outputs": [
        {
          "output_type": "stream",
          "name": "stdout",
          "text": [
            "u =  [1 0 1 1 0]\n",
            "v = u@G  [1 0 1 1 1 0 1 0 0 1 0]\n",
            "v@H = [0 0 0 0 0 0]\n"
          ]
        }
      ]
    },
    {
      "cell_type": "markdown",
      "source": [
        "## 1.5 Вычислить кодовое расстояние получившегося кода.\n"
      ],
      "metadata": {
        "id": "xS7fV9eAJCqJ"
      }
    },
    {
      "cell_type": "code",
      "source": [
        "from itertools import combinations\n",
        "\n",
        "# Функция для вычисления кодового расстояния\n",
        "def calculate_code_distance(matrix):\n",
        "    # Устанавливаем начальное большое значение для минимального веса\n",
        "    min_weight = np.inf\n",
        "\n",
        "    # Перебираем все возможные комбинации строк матрицы (от 1 до всех строк)\n",
        "    for size in range(1, len(matrix) + 1):\n",
        "        for subset in combinations(matrix, size):\n",
        "            # Создаем результирующий вектор как сумму строк по модулю 2\n",
        "            result_vector = np.zeros(len(matrix[0]), dtype=int)\n",
        "\n",
        "            # Проход по каждой строке из подмножества\n",
        "            for row in subset:\n",
        "                result_vector = (result_vector + row) % 2\n",
        "\n",
        "            # Вычисляем вес (количество ненулевых элементов) результирующего вектора\n",
        "            weight = np.sum(result_vector)\n",
        "\n",
        "            # Обновляем минимальный вес, если найден новый\n",
        "            if 0 < weight < min_weight:\n",
        "                min_weight = weight\n",
        "\n",
        "    return int(min_weight)"
      ],
      "metadata": {
        "id": "ZyJEZ77BFmY4"
      },
      "execution_count": null,
      "outputs": []
    },
    {
      "cell_type": "code",
      "source": [
        "G = np.array([[1, 0, 1, 1, 0, 0, 0, 1, 0, 0, 1],\n",
        "              [0, 0, 0, 1, 1, 1, 0, 1, 0, 1, 0],\n",
        "              [0, 0, 0, 0, 1, 0, 0, 1, 0, 0, 1],\n",
        "              [0, 0, 0, 0, 0, 0, 1, 0, 0, 1, 0],\n",
        "              [0, 0, 0, 0, 0, 0, 0, 0, 1, 1, 1]])"
      ],
      "metadata": {
        "id": "V5PTXQYCGh3V"
      },
      "execution_count": null,
      "outputs": []
    },
    {
      "cell_type": "code",
      "source": [
        "# Размерность матрицы G\n",
        "n = G.shape[1]  # Число столбцов\n",
        "k = G.shape[0]  # Число строк\n",
        "print('n =', n, '\\nk =', k)\n",
        "\n",
        "# Вычисляем минимальное кодовое расстояние\n",
        "d = calculate_code_distance(G)\n",
        "\n",
        "# Вычисляем кратность обнаруживаемой ошибки\n",
        "t = d - 1  # или можно оставить t = (d - 1) // 2, в зависимости от требования\n",
        "print(\"Кодовое расстояние (d) =\", d)\n",
        "print(\"Кратность обнаруживаемой ошибки (t) =\", t)"
      ],
      "metadata": {
        "colab": {
          "base_uri": "https://localhost:8080/"
        },
        "id": "wqmE_4mRFsfM",
        "outputId": "9faed174-e12c-4898-f230-1e65674e234d"
      },
      "execution_count": null,
      "outputs": [
        {
          "output_type": "stream",
          "name": "stdout",
          "text": [
            "n = 11 \n",
            "k = 5\n",
            "Кодовое расстояние (d) = 2\n",
            "Кратность обнаруживаемой ошибки (t) = 1\n"
          ]
        }
      ]
    },
    {
      "cell_type": "markdown",
      "source": [
        "### 1.5.1 Внести в кодовое слово ошибку кратности не более t, умножить полученное слово на H, убедиться в обнаружении ошибки."
      ],
      "metadata": {
        "id": "aHNcDmVVJwNC"
      }
    },
    {
      "cell_type": "code",
      "source": [
        "v = np.array([1, 0, 1, 1, 1, 0, 1, 0, 0, 1, 0])\n",
        "e1 = np.array([0, 0, 1, 0, 0, 0, 0, 0, 0, 0, 0])\n",
        "Ve1 = (v + e1) % 2\n",
        "print('v+e1', Ve1)\n",
        "check = np.dot(Ve1, H)\n",
        "check %= 2\n",
        "print('(v+e1)@H =', check, \"- error\")\n"
      ],
      "metadata": {
        "id": "uEEwFQ3qJvxM",
        "colab": {
          "base_uri": "https://localhost:8080/"
        },
        "outputId": "aec2a04b-758d-4ea1-8422-447f4bb249f9"
      },
      "execution_count": null,
      "outputs": [
        {
          "output_type": "stream",
          "name": "stdout",
          "text": [
            "v+e1 [1 0 0 1 1 0 1 0 0 1 0]\n",
            "(v+e1)@H = [0 1 0 0 0 0] - error\n"
          ]
        }
      ]
    },
    {
      "cell_type": "markdown",
      "source": [
        "### 1.5.2 Найти для некоторого кодового слова ошибку кратности t+1 такую, что при умножении на H ошибка не может быть обнаружена.\n"
      ],
      "metadata": {
        "id": "PZv_WdQ1Jy9Y"
      }
    },
    {
      "cell_type": "code",
      "source": [
        "def find_error_pattern(v, H):\n",
        "    # Проходим по всем парам позиций в кодовом слове\n",
        "    for idx1 in range(len(v) - 1):\n",
        "        for idx2 in range(idx1 + 1, len(v)):\n",
        "            # Создаем вектор ошибки для двух позиций\n",
        "            error_vector = np.zeros(len(v), dtype=int)\n",
        "            error_vector[[idx1, idx2]] = 1  # Устанавливаем единицы на выбранных позициях\n",
        "\n",
        "            # Вектор с ошибкой\n",
        "            corrupted_codeword = (v + error_vector) % 2\n",
        "\n",
        "            # Проверка: умножаем на проверочную матрицу\n",
        "            syndrome = np.dot(corrupted_codeword, H) % 2\n",
        "\n",
        "            # Если синдром ошибки состоит только из нулей, значит ошибка не обнаружена\n",
        "            if np.all(syndrome == 0):\n",
        "                return error_vector  # Возвращаем найденный вектор ошибки\n",
        "\n",
        "    return None  # Если ни одна ошибка не прошла незамеченной"
      ],
      "metadata": {
        "id": "qq38lTdTyw0o"
      },
      "execution_count": null,
      "outputs": []
    },
    {
      "cell_type": "code",
      "source": [
        "e2 = find_error_pattern(v, H)\n",
        "print('e2', e2)\n",
        "\n",
        "Ve2 = (v + e2) % 2\n",
        "print('v+e2', Ve2)\n",
        "\n",
        "check = np.dot(Ve2, H)\n",
        "check %= 2\n",
        "print('(v+e2)@H =', check, \"- no error\")"
      ],
      "metadata": {
        "id": "ojqBDdSeyzwn",
        "outputId": "f7752f4c-d8bd-4c46-9a1b-9ad2e0dd268a",
        "colab": {
          "base_uri": "https://localhost:8080/"
        }
      },
      "execution_count": null,
      "outputs": [
        {
          "output_type": "stream",
          "name": "stdout",
          "text": [
            "e2 [0 0 0 0 0 0 1 0 0 1 0]\n",
            "v+e2 [1 0 1 1 1 0 0 0 0 0 0]\n",
            "(v+e2)@H = [0 0 0 0 0 0] - no error\n"
          ]
        }
      ]
    },
    {
      "cell_type": "markdown",
      "source": [],
      "metadata": {
        "id": "kVI5QXlwJFrI"
      }
    }
  ]
}